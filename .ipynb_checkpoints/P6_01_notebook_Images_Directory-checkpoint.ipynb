{
 "cells": [
  {
   "cell_type": "markdown",
   "metadata": {
    "toc": true
   },
   "source": [
    "<h1>Table of Contents<span class=\"tocSkip\"></span></h1>\n",
    "<div class=\"toc\"><ul class=\"toc-item\"><li><span><a href=\"#Import-data\" data-toc-modified-id=\"Import-data-1\"><span class=\"toc-item-num\">1&nbsp;&nbsp;</span>Import data</a></span></li><li><span><a href=\"#Setting-the-right-path-for-each-category\" data-toc-modified-id=\"Setting-the-right-path-for-each-category-2\"><span class=\"toc-item-num\">2&nbsp;&nbsp;</span>Setting the right path for each category</a></span><ul class=\"toc-item\"><li><span><a href=\"#Create-the-train,-validation-and-test-dataset\" data-toc-modified-id=\"Create-the-train,-validation-and-test-dataset-2.1\"><span class=\"toc-item-num\">2.1&nbsp;&nbsp;</span>Create the train, validation and test dataset</a></span></li><li><span><a href=\"#Get-the-different-categories\" data-toc-modified-id=\"Get-the-different-categories-2.2\"><span class=\"toc-item-num\">2.2&nbsp;&nbsp;</span>Get the different categories</a></span></li><li><span><a href=\"#Set-up-functions-to-create-the-directories\" data-toc-modified-id=\"Set-up-functions-to-create-the-directories-2.3\"><span class=\"toc-item-num\">2.3&nbsp;&nbsp;</span>Set up functions to create the directories</a></span></li><li><span><a href=\"#Put-all-images-into-the-right-directory\" data-toc-modified-id=\"Put-all-images-into-the-right-directory-2.4\"><span class=\"toc-item-num\">2.4&nbsp;&nbsp;</span>Put all images into the right directory</a></span></li></ul></li></ul></div>"
   ]
  },
  {
   "cell_type": "code",
   "execution_count": 1,
   "metadata": {},
   "outputs": [
    {
     "name": "stderr",
     "output_type": "stream",
     "text": [
      "C:\\ProgramData\\Anaconda3\\lib\\site-packages\\numpy\\core\\__init__.py:29: UserWarning: loaded more than 1 DLL from .libs:\n",
      "C:\\ProgramData\\Anaconda3\\lib\\site-packages\\numpy\\.libs\\libopenblas.PYQHXLVVQ7VESDPUVUADXEVJOBGHJPAY.gfortran-win_amd64.dll\n",
      "C:\\ProgramData\\Anaconda3\\lib\\site-packages\\numpy\\.libs\\libopenblas.TXA6YQSD3GCQQC22GEQ54J2UDCXDXHWN.gfortran-win_amd64.dll\n",
      "  stacklevel=1)\n"
     ]
    }
   ],
   "source": [
    "import os\n",
    "import pandas as pd\n",
    "import numpy as np\n",
    "from shutil import copyfile\n",
    "from sklearn.model_selection import train_test_split"
   ]
  },
  {
   "cell_type": "code",
   "execution_count": 2,
   "metadata": {},
   "outputs": [],
   "source": [
    "# Do not forget to seed the random state or the directories will change every time you\n",
    "# run this code\n",
    "np.random.seed(42)"
   ]
  },
  {
   "cell_type": "markdown",
   "metadata": {},
   "source": [
    "# Import data"
   ]
  },
  {
   "cell_type": "code",
   "execution_count": 3,
   "metadata": {},
   "outputs": [],
   "source": [
    "data = pd.read_csv(\"data/flipkart_com-ecommerce_sample_1050.csv\")\n",
    "data = data.set_index('uniq_id')"
   ]
  },
  {
   "cell_type": "code",
   "execution_count": 4,
   "metadata": {},
   "outputs": [],
   "source": [
    "# We first need to extract the categories from the data\n",
    "data['categ'] = data['product_category_tree'].str.split(pat='>>').str[0]\n",
    "data['categ'] = data['categ'].str.split(pat='\"').str[1]\n",
    "# Let's get the second categ, we'll see if we need it later\n",
    "data['categ2'] = data['product_category_tree'].str.split(pat='>>').str[1]\n",
    "\n",
    "# Let's remove the last space and replace the one in the middle by _\n",
    "data['categ'] = data['categ'].str.rstrip().str.replace(\" \", \"_\")\n",
    "data['categ'] = data['categ'].str.replace(\"&\", \"And\")"
   ]
  },
  {
   "cell_type": "markdown",
   "metadata": {},
   "source": [
    "# Setting the right path for each category"
   ]
  },
  {
   "cell_type": "markdown",
   "metadata": {},
   "source": [
    "The architecture will be as follow : <br/>\n",
    "<li><ul> Train \n",
    "    <ul> Cat1 </ul>\n",
    "    <ul> Cat2 </ul></ul>\n",
    "    <ul> Validation \n",
    "    <ul> Cat1 </ul>\n",
    "    <ul> Cat2 </ul></ul></li>\n",
    "    <ul> Test \n",
    "    <ul> Cat1 </ul>\n",
    "    <ul> Cat2 </ul></ul></li>"
   ]
  },
  {
   "cell_type": "markdown",
   "metadata": {},
   "source": [
    "## Create the train, validation and test dataset"
   ]
  },
  {
   "cell_type": "code",
   "execution_count": 5,
   "metadata": {},
   "outputs": [],
   "source": [
    "x = data.copy()\n",
    "y = data[['categ']]\n",
    "x_train, x_test, y_train, y_test = train_test_split(x, y, test_size=0.2, random_state=42)\n",
    "x_train, x_val, y_train, y_val = train_test_split(\n",
    "    x_train, y_train, test_size=0.25, random_state=42)"
   ]
  },
  {
   "cell_type": "markdown",
   "metadata": {},
   "source": [
    "Let's rebuild a single dataset with the labeled data"
   ]
  },
  {
   "cell_type": "code",
   "execution_count": 6,
   "metadata": {},
   "outputs": [
    {
     "name": "stderr",
     "output_type": "stream",
     "text": [
      "C:\\ProgramData\\Anaconda3\\lib\\site-packages\\pandas\\core\\indexing.py:844: SettingWithCopyWarning: \n",
      "A value is trying to be set on a copy of a slice from a DataFrame.\n",
      "Try using .loc[row_indexer,col_indexer] = value instead\n",
      "\n",
      "See the caveats in the documentation: https://pandas.pydata.org/pandas-docs/stable/user_guide/indexing.html#returning-a-view-versus-a-copy\n",
      "  self.obj[key] = _infer_fill_value(value)\n",
      "C:\\ProgramData\\Anaconda3\\lib\\site-packages\\pandas\\core\\indexing.py:965: SettingWithCopyWarning: \n",
      "A value is trying to be set on a copy of a slice from a DataFrame.\n",
      "Try using .loc[row_indexer,col_indexer] = value instead\n",
      "\n",
      "See the caveats in the documentation: https://pandas.pydata.org/pandas-docs/stable/user_guide/indexing.html#returning-a-view-versus-a-copy\n",
      "  self.obj[item] = s\n"
     ]
    }
   ],
   "source": [
    "x_train.loc[:,'label'] = \"Train\"\n",
    "x_val.loc[:,'label'] = \"Validation\"\n",
    "x_test.loc[:,'label'] = \"Test\"\n",
    "data = pd.concat([x_train, x_val])\n",
    "data = pd.concat([data, x_test])\n",
    "\n",
    "y_train.loc[:,'label'] = \"Train\"\n",
    "y_val.loc[:,'label'] = \"Validation\"\n",
    "y_test.loc[:,'label'] = \"Test\"\n",
    "\n",
    "target = pd.concat([y_train, y_val])\n",
    "target = pd.concat([target, y_test])"
   ]
  },
  {
   "cell_type": "markdown",
   "metadata": {},
   "source": [
    "## Get the different categories"
   ]
  },
  {
   "cell_type": "code",
   "execution_count": 7,
   "metadata": {},
   "outputs": [],
   "source": [
    "categ = data['categ'].unique()"
   ]
  },
  {
   "cell_type": "markdown",
   "metadata": {},
   "source": [
    "## Set up functions to create the directories"
   ]
  },
  {
   "cell_type": "code",
   "execution_count": 8,
   "metadata": {},
   "outputs": [],
   "source": [
    "def createDirectory(categ, direct=['Train', 'Validation', 'Test']):\n",
    "    for cat in categ:\n",
    "        for d in direct:\n",
    "            if os.path.isdir(\"data/\" + d + \"/\" + cat):\n",
    "                print(\"The directory :\", \"data/\" + d + \"/\" + cat, \"was already created\")\n",
    "            else:\n",
    "                os.makedirs(\"data/\" + d + \"/\" + cat)\n",
    "                print(\"The directory :\", \"data/\" + d + \"/\" + cat, \"was created successfully\")"
   ]
  },
  {
   "cell_type": "code",
   "execution_count": 9,
   "metadata": {},
   "outputs": [
    {
     "name": "stdout",
     "output_type": "stream",
     "text": [
      "The directory : data/Train/Baby_Care was created successfully\n",
      "The directory : data/Validation/Baby_Care was created successfully\n",
      "The directory : data/Test/Baby_Care was created successfully\n",
      "The directory : data/Train/Home_Decor_And_Festive_Needs was created successfully\n",
      "The directory : data/Validation/Home_Decor_And_Festive_Needs was created successfully\n",
      "The directory : data/Test/Home_Decor_And_Festive_Needs was created successfully\n",
      "The directory : data/Train/Watches was created successfully\n",
      "The directory : data/Validation/Watches was created successfully\n",
      "The directory : data/Test/Watches was created successfully\n",
      "The directory : data/Train/Beauty_and_Personal_Care was created successfully\n",
      "The directory : data/Validation/Beauty_and_Personal_Care was created successfully\n",
      "The directory : data/Test/Beauty_and_Personal_Care was created successfully\n",
      "The directory : data/Train/Kitchen_And_Dining was created successfully\n",
      "The directory : data/Validation/Kitchen_And_Dining was created successfully\n",
      "The directory : data/Test/Kitchen_And_Dining was created successfully\n",
      "The directory : data/Train/Computers was created successfully\n",
      "The directory : data/Validation/Computers was created successfully\n",
      "The directory : data/Test/Computers was created successfully\n",
      "The directory : data/Train/Home_Furnishing was created successfully\n",
      "The directory : data/Validation/Home_Furnishing was created successfully\n",
      "The directory : data/Test/Home_Furnishing was created successfully\n"
     ]
    }
   ],
   "source": [
    "createDirectory(categ)"
   ]
  },
  {
   "cell_type": "markdown",
   "metadata": {},
   "source": [
    "## Put all images into the right directory"
   ]
  },
  {
   "cell_type": "code",
   "execution_count": 10,
   "metadata": {},
   "outputs": [],
   "source": [
    "def moveImages():\n",
    "    path_train = []\n",
    "    path_test = []\n",
    "    path_val = []\n",
    "    for index in x_train.index:\n",
    "        try:\n",
    "            cat = x_train.loc[index, 'categ']\n",
    "            path_ = \"data/Train/\" + cat.strip() + \"/\" + x_train.loc[index, 'image']\n",
    "            copyfile(\"data/Images/\" + x_train.loc[index, 'image'], path_)\n",
    "            path_train.append(path_)\n",
    "        except:\n",
    "            print(\"Picture not in the path\")\n",
    "            path_ = \" \"\n",
    "            path_train.append(path_)\n",
    "            pass\n",
    "    path_train = pd.DataFrame(path_train, index=x_train.index, columns=['path'])\n",
    "\n",
    "    for index in x_val.index:\n",
    "        try:\n",
    "            cat = x_val.loc[index, 'categ'] \n",
    "            path_ = \"data/Validation/\" + cat.strip() + \"/\" + x_val.loc[index, 'image']\n",
    "            copyfile(\"data/Images/\" + x_val.loc[index, 'image'], path_)\n",
    "            path_val.append(path_)\n",
    "        except:\n",
    "            print(\"Picture not in the path\")\n",
    "            path_ = \" \"\n",
    "            path_val.append(path_)\n",
    "            pass\n",
    "    path_val = pd.DataFrame(path_val, index=x_val.index, columns=['path'])\n",
    "\n",
    "    for index in x_test.index:\n",
    "        try:\n",
    "            cat = x_test.loc[index, 'categ'] \n",
    "            path_ = \"data/Test/\" + cat.strip() + \"/\" + x_test.loc[index, 'image']\n",
    "            copyfile(\"data/Images/\" + x_test.loc[index, 'image'], path_)\n",
    "            path_test.append(path_)\n",
    "        except:\n",
    "            print(\"Picture not in the path\")\n",
    "            path_ = \" \"\n",
    "            path_test.append(path_)\n",
    "            pass\n",
    "    path_test = pd.DataFrame(path_test, index=x_test.index, columns=['path'])\n",
    "    \n",
    "    return path_train, path_val, path_test"
   ]
  },
  {
   "cell_type": "code",
   "execution_count": 11,
   "metadata": {
    "scrolled": true
   },
   "outputs": [],
   "source": [
    "path_train, path_val, path_test = moveImages()"
   ]
  },
  {
   "cell_type": "code",
   "execution_count": 12,
   "metadata": {},
   "outputs": [],
   "source": [
    "x_train = pd.merge(x_train, path_train, left_index=True, right_index=True, how='inner')\n",
    "x_val = pd.merge(x_val, path_val, left_index=True, right_index=True, how='inner')\n",
    "x_test = pd.merge(x_test, path_test, left_index=True, right_index=True, how='inner')"
   ]
  },
  {
   "cell_type": "code",
   "execution_count": 19,
   "metadata": {},
   "outputs": [],
   "source": [
    "data = pd.concat([x_train, x_val])\n",
    "data = pd.concat([data, x_test])"
   ]
  },
  {
   "cell_type": "code",
   "execution_count": 20,
   "metadata": {},
   "outputs": [],
   "source": [
    "data.to_csv(\"data/data.csv\")\n",
    "target.to_csv(\"data/target.csv\")"
   ]
  }
 ],
 "metadata": {
  "kernelspec": {
   "display_name": "Python 3",
   "language": "python",
   "name": "python3"
  },
  "language_info": {
   "codemirror_mode": {
    "name": "ipython",
    "version": 3
   },
   "file_extension": ".py",
   "mimetype": "text/x-python",
   "name": "python",
   "nbconvert_exporter": "python",
   "pygments_lexer": "ipython3",
   "version": "3.7.6"
  },
  "toc": {
   "base_numbering": 1,
   "nav_menu": {},
   "number_sections": true,
   "sideBar": true,
   "skip_h1_title": false,
   "title_cell": "Table of Contents",
   "title_sidebar": "Contents",
   "toc_cell": true,
   "toc_position": {},
   "toc_section_display": true,
   "toc_window_display": false
  },
  "varInspector": {
   "cols": {
    "lenName": 16,
    "lenType": 16,
    "lenVar": 40
   },
   "kernels_config": {
    "python": {
     "delete_cmd_postfix": "",
     "delete_cmd_prefix": "del ",
     "library": "var_list.py",
     "varRefreshCmd": "print(var_dic_list())"
    },
    "r": {
     "delete_cmd_postfix": ") ",
     "delete_cmd_prefix": "rm(",
     "library": "var_list.r",
     "varRefreshCmd": "cat(var_dic_list()) "
    }
   },
   "types_to_exclude": [
    "module",
    "function",
    "builtin_function_or_method",
    "instance",
    "_Feature"
   ],
   "window_display": false
  }
 },
 "nbformat": 4,
 "nbformat_minor": 4
}
