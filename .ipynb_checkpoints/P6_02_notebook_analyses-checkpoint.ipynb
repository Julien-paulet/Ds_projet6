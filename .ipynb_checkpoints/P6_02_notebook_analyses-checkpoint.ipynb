{
 "cells": [
  {
   "cell_type": "code",
   "execution_count": 1,
   "metadata": {},
   "outputs": [
    {
     "name": "stderr",
     "output_type": "stream",
     "text": [
      "C:\\ProgramData\\Anaconda3\\lib\\site-packages\\numpy\\core\\__init__.py:29: UserWarning: loaded more than 1 DLL from .libs:\n",
      "C:\\ProgramData\\Anaconda3\\lib\\site-packages\\numpy\\.libs\\libopenblas.PYQHXLVVQ7VESDPUVUADXEVJOBGHJPAY.gfortran-win_amd64.dll\n",
      "C:\\ProgramData\\Anaconda3\\lib\\site-packages\\numpy\\.libs\\libopenblas.TXA6YQSD3GCQQC22GEQ54J2UDCXDXHWN.gfortran-win_amd64.dll\n",
      "  stacklevel=1)\n"
     ]
    },
    {
     "name": "stdout",
     "output_type": "stream",
     "text": [
      "Random State is 42 by default, you can change it in the functions parameters.\n",
      "Functions still in build : ACP, Hierarchical Clustering, allClustering. Do not use it\n"
     ]
    }
   ],
   "source": [
    "import os\n",
    "import time\n",
    "import numpy as np\n",
    "import pandas as pd\n",
    "import nltk\n",
    "import string\n",
    "from collections import defaultdict\n",
    "import matplotlib.pyplot as plt\n",
    "import seaborn as sns\n",
    "from sklearn.feature_extraction.text import TfidfVectorizer\n",
    "from sklearn.manifold import TSNE\n",
    "from sklearn.ensemble import RandomForestClassifier\n",
    "from sklearn.model_selection import RandomizedSearchCV\n",
    "from sklearn.model_selection import train_test_split\n",
    "from sklearn.metrics import accuracy_score\n",
    "from sklearn import preprocessing\n",
    "from sklearn.metrics import confusion_matrix\n",
    "from nltk.stem.snowball import EnglishStemmer\n",
    "from clustering import *"
   ]
  },
  {
   "cell_type": "code",
   "execution_count": 2,
   "metadata": {},
   "outputs": [],
   "source": [
    "data = pd.read_csv(\"data/flipkart_com-ecommerce_sample_1050.csv\")\n",
    "data = data.set_index('uniq_id')"
   ]
  },
  {
   "cell_type": "code",
   "execution_count": 3,
   "metadata": {},
   "outputs": [
    {
     "data": {
      "text/html": [
       "<div>\n",
       "<style scoped>\n",
       "    .dataframe tbody tr th:only-of-type {\n",
       "        vertical-align: middle;\n",
       "    }\n",
       "\n",
       "    .dataframe tbody tr th {\n",
       "        vertical-align: top;\n",
       "    }\n",
       "\n",
       "    .dataframe thead th {\n",
       "        text-align: right;\n",
       "    }\n",
       "</style>\n",
       "<table border=\"1\" class=\"dataframe\">\n",
       "  <thead>\n",
       "    <tr style=\"text-align: right;\">\n",
       "      <th></th>\n",
       "      <th>crawl_timestamp</th>\n",
       "      <th>product_url</th>\n",
       "      <th>product_name</th>\n",
       "      <th>product_category_tree</th>\n",
       "      <th>pid</th>\n",
       "      <th>retail_price</th>\n",
       "      <th>discounted_price</th>\n",
       "      <th>image</th>\n",
       "      <th>is_FK_Advantage_product</th>\n",
       "      <th>description</th>\n",
       "      <th>product_rating</th>\n",
       "      <th>overall_rating</th>\n",
       "      <th>brand</th>\n",
       "      <th>product_specifications</th>\n",
       "    </tr>\n",
       "    <tr>\n",
       "      <th>uniq_id</th>\n",
       "      <th></th>\n",
       "      <th></th>\n",
       "      <th></th>\n",
       "      <th></th>\n",
       "      <th></th>\n",
       "      <th></th>\n",
       "      <th></th>\n",
       "      <th></th>\n",
       "      <th></th>\n",
       "      <th></th>\n",
       "      <th></th>\n",
       "      <th></th>\n",
       "      <th></th>\n",
       "      <th></th>\n",
       "    </tr>\n",
       "  </thead>\n",
       "  <tbody>\n",
       "    <tr>\n",
       "      <th>55b85ea15a1536d46b7190ad6fff8ce7</th>\n",
       "      <td>2016-04-30 03:22:56 +0000</td>\n",
       "      <td>http://www.flipkart.com/elegance-polyester-mul...</td>\n",
       "      <td>Elegance Polyester Multicolor Abstract Eyelet ...</td>\n",
       "      <td>[\"Home Furnishing &gt;&gt; Curtains &amp; Accessories &gt;&gt;...</td>\n",
       "      <td>CRNEG7BKMFFYHQ8Z</td>\n",
       "      <td>1899.0</td>\n",
       "      <td>899.0</td>\n",
       "      <td>55b85ea15a1536d46b7190ad6fff8ce7.jpg</td>\n",
       "      <td>False</td>\n",
       "      <td>Key Features of Elegance Polyester Multicolor ...</td>\n",
       "      <td>No rating available</td>\n",
       "      <td>No rating available</td>\n",
       "      <td>Elegance</td>\n",
       "      <td>{\"product_specification\"=&gt;[{\"key\"=&gt;\"Brand\", \"v...</td>\n",
       "    </tr>\n",
       "    <tr>\n",
       "      <th>7b72c92c2f6c40268628ec5f14c6d590</th>\n",
       "      <td>2016-04-30 03:22:56 +0000</td>\n",
       "      <td>http://www.flipkart.com/sathiyas-cotton-bath-t...</td>\n",
       "      <td>Sathiyas Cotton Bath Towel</td>\n",
       "      <td>[\"Baby Care &gt;&gt; Baby Bath &amp; Skin &gt;&gt; Baby Bath T...</td>\n",
       "      <td>BTWEGFZHGBXPHZUH</td>\n",
       "      <td>600.0</td>\n",
       "      <td>449.0</td>\n",
       "      <td>7b72c92c2f6c40268628ec5f14c6d590.jpg</td>\n",
       "      <td>False</td>\n",
       "      <td>Specifications of Sathiyas Cotton Bath Towel (...</td>\n",
       "      <td>No rating available</td>\n",
       "      <td>No rating available</td>\n",
       "      <td>Sathiyas</td>\n",
       "      <td>{\"product_specification\"=&gt;[{\"key\"=&gt;\"Machine Wa...</td>\n",
       "    </tr>\n",
       "    <tr>\n",
       "      <th>64d5d4a258243731dc7bbb1eef49ad74</th>\n",
       "      <td>2016-04-30 03:22:56 +0000</td>\n",
       "      <td>http://www.flipkart.com/eurospa-cotton-terry-f...</td>\n",
       "      <td>Eurospa Cotton Terry Face Towel Set</td>\n",
       "      <td>[\"Baby Care &gt;&gt; Baby Bath &amp; Skin &gt;&gt; Baby Bath T...</td>\n",
       "      <td>BTWEG6SHXTDB2A2Y</td>\n",
       "      <td>NaN</td>\n",
       "      <td>NaN</td>\n",
       "      <td>64d5d4a258243731dc7bbb1eef49ad74.jpg</td>\n",
       "      <td>False</td>\n",
       "      <td>Key Features of Eurospa Cotton Terry Face Towe...</td>\n",
       "      <td>No rating available</td>\n",
       "      <td>No rating available</td>\n",
       "      <td>Eurospa</td>\n",
       "      <td>{\"product_specification\"=&gt;[{\"key\"=&gt;\"Material\",...</td>\n",
       "    </tr>\n",
       "    <tr>\n",
       "      <th>d4684dcdc759dd9cdf41504698d737d8</th>\n",
       "      <td>2016-06-20 08:49:52 +0000</td>\n",
       "      <td>http://www.flipkart.com/santosh-royal-fashion-...</td>\n",
       "      <td>SANTOSH ROYAL FASHION Cotton Printed King size...</td>\n",
       "      <td>[\"Home Furnishing &gt;&gt; Bed Linen &gt;&gt; Bedsheets &gt;&gt;...</td>\n",
       "      <td>BDSEJT9UQWHDUBH4</td>\n",
       "      <td>2699.0</td>\n",
       "      <td>1299.0</td>\n",
       "      <td>d4684dcdc759dd9cdf41504698d737d8.jpg</td>\n",
       "      <td>False</td>\n",
       "      <td>Key Features of SANTOSH ROYAL FASHION Cotton P...</td>\n",
       "      <td>No rating available</td>\n",
       "      <td>No rating available</td>\n",
       "      <td>SANTOSH ROYAL FASHION</td>\n",
       "      <td>{\"product_specification\"=&gt;[{\"key\"=&gt;\"Brand\", \"v...</td>\n",
       "    </tr>\n",
       "    <tr>\n",
       "      <th>6325b6870c54cd47be6ebfbffa620ec7</th>\n",
       "      <td>2016-06-20 08:49:52 +0000</td>\n",
       "      <td>http://www.flipkart.com/jaipur-print-cotton-fl...</td>\n",
       "      <td>Jaipur Print Cotton Floral King sized Double B...</td>\n",
       "      <td>[\"Home Furnishing &gt;&gt; Bed Linen &gt;&gt; Bedsheets &gt;&gt;...</td>\n",
       "      <td>BDSEJTHNGWVGWWQU</td>\n",
       "      <td>2599.0</td>\n",
       "      <td>698.0</td>\n",
       "      <td>6325b6870c54cd47be6ebfbffa620ec7.jpg</td>\n",
       "      <td>False</td>\n",
       "      <td>Key Features of Jaipur Print Cotton Floral Kin...</td>\n",
       "      <td>No rating available</td>\n",
       "      <td>No rating available</td>\n",
       "      <td>Jaipur Print</td>\n",
       "      <td>{\"product_specification\"=&gt;[{\"key\"=&gt;\"Machine Wa...</td>\n",
       "    </tr>\n",
       "  </tbody>\n",
       "</table>\n",
       "</div>"
      ],
      "text/plain": [
       "                                            crawl_timestamp  \\\n",
       "uniq_id                                                       \n",
       "55b85ea15a1536d46b7190ad6fff8ce7  2016-04-30 03:22:56 +0000   \n",
       "7b72c92c2f6c40268628ec5f14c6d590  2016-04-30 03:22:56 +0000   \n",
       "64d5d4a258243731dc7bbb1eef49ad74  2016-04-30 03:22:56 +0000   \n",
       "d4684dcdc759dd9cdf41504698d737d8  2016-06-20 08:49:52 +0000   \n",
       "6325b6870c54cd47be6ebfbffa620ec7  2016-06-20 08:49:52 +0000   \n",
       "\n",
       "                                                                        product_url  \\\n",
       "uniq_id                                                                               \n",
       "55b85ea15a1536d46b7190ad6fff8ce7  http://www.flipkart.com/elegance-polyester-mul...   \n",
       "7b72c92c2f6c40268628ec5f14c6d590  http://www.flipkart.com/sathiyas-cotton-bath-t...   \n",
       "64d5d4a258243731dc7bbb1eef49ad74  http://www.flipkart.com/eurospa-cotton-terry-f...   \n",
       "d4684dcdc759dd9cdf41504698d737d8  http://www.flipkart.com/santosh-royal-fashion-...   \n",
       "6325b6870c54cd47be6ebfbffa620ec7  http://www.flipkart.com/jaipur-print-cotton-fl...   \n",
       "\n",
       "                                                                       product_name  \\\n",
       "uniq_id                                                                               \n",
       "55b85ea15a1536d46b7190ad6fff8ce7  Elegance Polyester Multicolor Abstract Eyelet ...   \n",
       "7b72c92c2f6c40268628ec5f14c6d590                         Sathiyas Cotton Bath Towel   \n",
       "64d5d4a258243731dc7bbb1eef49ad74                Eurospa Cotton Terry Face Towel Set   \n",
       "d4684dcdc759dd9cdf41504698d737d8  SANTOSH ROYAL FASHION Cotton Printed King size...   \n",
       "6325b6870c54cd47be6ebfbffa620ec7  Jaipur Print Cotton Floral King sized Double B...   \n",
       "\n",
       "                                                              product_category_tree  \\\n",
       "uniq_id                                                                               \n",
       "55b85ea15a1536d46b7190ad6fff8ce7  [\"Home Furnishing >> Curtains & Accessories >>...   \n",
       "7b72c92c2f6c40268628ec5f14c6d590  [\"Baby Care >> Baby Bath & Skin >> Baby Bath T...   \n",
       "64d5d4a258243731dc7bbb1eef49ad74  [\"Baby Care >> Baby Bath & Skin >> Baby Bath T...   \n",
       "d4684dcdc759dd9cdf41504698d737d8  [\"Home Furnishing >> Bed Linen >> Bedsheets >>...   \n",
       "6325b6870c54cd47be6ebfbffa620ec7  [\"Home Furnishing >> Bed Linen >> Bedsheets >>...   \n",
       "\n",
       "                                               pid  retail_price  \\\n",
       "uniq_id                                                            \n",
       "55b85ea15a1536d46b7190ad6fff8ce7  CRNEG7BKMFFYHQ8Z        1899.0   \n",
       "7b72c92c2f6c40268628ec5f14c6d590  BTWEGFZHGBXPHZUH         600.0   \n",
       "64d5d4a258243731dc7bbb1eef49ad74  BTWEG6SHXTDB2A2Y           NaN   \n",
       "d4684dcdc759dd9cdf41504698d737d8  BDSEJT9UQWHDUBH4        2699.0   \n",
       "6325b6870c54cd47be6ebfbffa620ec7  BDSEJTHNGWVGWWQU        2599.0   \n",
       "\n",
       "                                  discounted_price  \\\n",
       "uniq_id                                              \n",
       "55b85ea15a1536d46b7190ad6fff8ce7             899.0   \n",
       "7b72c92c2f6c40268628ec5f14c6d590             449.0   \n",
       "64d5d4a258243731dc7bbb1eef49ad74               NaN   \n",
       "d4684dcdc759dd9cdf41504698d737d8            1299.0   \n",
       "6325b6870c54cd47be6ebfbffa620ec7             698.0   \n",
       "\n",
       "                                                                 image  \\\n",
       "uniq_id                                                                  \n",
       "55b85ea15a1536d46b7190ad6fff8ce7  55b85ea15a1536d46b7190ad6fff8ce7.jpg   \n",
       "7b72c92c2f6c40268628ec5f14c6d590  7b72c92c2f6c40268628ec5f14c6d590.jpg   \n",
       "64d5d4a258243731dc7bbb1eef49ad74  64d5d4a258243731dc7bbb1eef49ad74.jpg   \n",
       "d4684dcdc759dd9cdf41504698d737d8  d4684dcdc759dd9cdf41504698d737d8.jpg   \n",
       "6325b6870c54cd47be6ebfbffa620ec7  6325b6870c54cd47be6ebfbffa620ec7.jpg   \n",
       "\n",
       "                                  is_FK_Advantage_product  \\\n",
       "uniq_id                                                     \n",
       "55b85ea15a1536d46b7190ad6fff8ce7                    False   \n",
       "7b72c92c2f6c40268628ec5f14c6d590                    False   \n",
       "64d5d4a258243731dc7bbb1eef49ad74                    False   \n",
       "d4684dcdc759dd9cdf41504698d737d8                    False   \n",
       "6325b6870c54cd47be6ebfbffa620ec7                    False   \n",
       "\n",
       "                                                                        description  \\\n",
       "uniq_id                                                                               \n",
       "55b85ea15a1536d46b7190ad6fff8ce7  Key Features of Elegance Polyester Multicolor ...   \n",
       "7b72c92c2f6c40268628ec5f14c6d590  Specifications of Sathiyas Cotton Bath Towel (...   \n",
       "64d5d4a258243731dc7bbb1eef49ad74  Key Features of Eurospa Cotton Terry Face Towe...   \n",
       "d4684dcdc759dd9cdf41504698d737d8  Key Features of SANTOSH ROYAL FASHION Cotton P...   \n",
       "6325b6870c54cd47be6ebfbffa620ec7  Key Features of Jaipur Print Cotton Floral Kin...   \n",
       "\n",
       "                                       product_rating       overall_rating  \\\n",
       "uniq_id                                                                      \n",
       "55b85ea15a1536d46b7190ad6fff8ce7  No rating available  No rating available   \n",
       "7b72c92c2f6c40268628ec5f14c6d590  No rating available  No rating available   \n",
       "64d5d4a258243731dc7bbb1eef49ad74  No rating available  No rating available   \n",
       "d4684dcdc759dd9cdf41504698d737d8  No rating available  No rating available   \n",
       "6325b6870c54cd47be6ebfbffa620ec7  No rating available  No rating available   \n",
       "\n",
       "                                                  brand  \\\n",
       "uniq_id                                                   \n",
       "55b85ea15a1536d46b7190ad6fff8ce7               Elegance   \n",
       "7b72c92c2f6c40268628ec5f14c6d590               Sathiyas   \n",
       "64d5d4a258243731dc7bbb1eef49ad74                Eurospa   \n",
       "d4684dcdc759dd9cdf41504698d737d8  SANTOSH ROYAL FASHION   \n",
       "6325b6870c54cd47be6ebfbffa620ec7           Jaipur Print   \n",
       "\n",
       "                                                             product_specifications  \n",
       "uniq_id                                                                              \n",
       "55b85ea15a1536d46b7190ad6fff8ce7  {\"product_specification\"=>[{\"key\"=>\"Brand\", \"v...  \n",
       "7b72c92c2f6c40268628ec5f14c6d590  {\"product_specification\"=>[{\"key\"=>\"Machine Wa...  \n",
       "64d5d4a258243731dc7bbb1eef49ad74  {\"product_specification\"=>[{\"key\"=>\"Material\",...  \n",
       "d4684dcdc759dd9cdf41504698d737d8  {\"product_specification\"=>[{\"key\"=>\"Brand\", \"v...  \n",
       "6325b6870c54cd47be6ebfbffa620ec7  {\"product_specification\"=>[{\"key\"=>\"Machine Wa...  "
      ]
     },
     "execution_count": 3,
     "metadata": {},
     "output_type": "execute_result"
    }
   ],
   "source": [
    "data.head()"
   ]
  },
  {
   "cell_type": "code",
   "execution_count": 4,
   "metadata": {},
   "outputs": [
    {
     "name": "stdout",
     "output_type": "stream",
     "text": [
      "La colonne 'retail_price' comporte 1 / 1050 valeur(s) manquante(s)\n",
      "Ce qui représente 0.09523809523809523%\n",
      "La colonne 'discounted_price' comporte 1 / 1050 valeur(s) manquante(s)\n",
      "Ce qui représente 0.09523809523809523%\n",
      "La colonne 'brand' comporte 338 / 1050 valeur(s) manquante(s)\n",
      "Ce qui représente 32.19047619047619%\n",
      "La colonne 'product_specifications' comporte 1 / 1050 valeur(s) manquante(s)\n",
      "Ce qui représente 0.09523809523809523%\n",
      "4 colonnes au total possèdent des valeurs manquantes\n",
      "85.25 / 1050 valeurs sont manquantes en moyenne dans chaque colonne\n"
     ]
    }
   ],
   "source": [
    "from functions import *\n",
    "isnan(data)"
   ]
  },
  {
   "cell_type": "markdown",
   "metadata": {},
   "source": [
    "# Categories"
   ]
  },
  {
   "cell_type": "code",
   "execution_count": 5,
   "metadata": {},
   "outputs": [],
   "source": [
    "# We first need to extract the categories from the data\n",
    "data['categ'] = data['product_category_tree'].str.split(pat='>>').str[0]\n",
    "data['categ'] = data['categ'].str.split(pat='\"').str[1]\n",
    "# Let's get the second categ, we'll see if we need it later\n",
    "data['categ2'] = data['product_category_tree'].str.split(pat='>>').str[1]"
   ]
  },
  {
   "cell_type": "code",
   "execution_count": 6,
   "metadata": {},
   "outputs": [
    {
     "data": {
      "text/plain": [
       "7"
      ]
     },
     "execution_count": 6,
     "metadata": {},
     "output_type": "execute_result"
    }
   ],
   "source": [
    "len(data['categ'].unique())"
   ]
  },
  {
   "cell_type": "code",
   "execution_count": 7,
   "metadata": {},
   "outputs": [
    {
     "data": {
      "text/plain": [
       "1050"
      ]
     },
     "execution_count": 7,
     "metadata": {},
     "output_type": "execute_result"
    }
   ],
   "source": [
    "len(data)"
   ]
  },
  {
   "cell_type": "code",
   "execution_count": 8,
   "metadata": {},
   "outputs": [
    {
     "data": {
      "text/plain": [
       "categ\n",
       "Baby Care                      150\n",
       "Beauty and Personal Care       150\n",
       "Computers                      150\n",
       "Home Decor & Festive Needs     150\n",
       "Home Furnishing                150\n",
       "Kitchen & Dining               150\n",
       "Watches                        150\n",
       "Name: pid, dtype: int64"
      ]
     },
     "execution_count": 8,
     "metadata": {},
     "output_type": "execute_result"
    }
   ],
   "source": [
    "count_categ = data.groupby('categ').count()['pid'] # Take whatever column to count\n",
    "count_categ"
   ]
  },
  {
   "cell_type": "markdown",
   "metadata": {},
   "source": [
    "# Products"
   ]
  },
  {
   "cell_type": "code",
   "execution_count": 9,
   "metadata": {},
   "outputs": [
    {
     "data": {
      "text/plain": [
       "1050"
      ]
     },
     "execution_count": 9,
     "metadata": {},
     "output_type": "execute_result"
    }
   ],
   "source": [
    "len(data['product_name'].unique())"
   ]
  },
  {
   "cell_type": "markdown",
   "metadata": {},
   "source": [
    "# Description analysis"
   ]
  },
  {
   "cell_type": "markdown",
   "metadata": {},
   "source": [
    "## Normalisation"
   ]
  },
  {
   "cell_type": "code",
   "execution_count": 10,
   "metadata": {},
   "outputs": [],
   "source": [
    "data_text = data.reset_index()\n",
    "data_text = data_text[['categ', 'description']]\n",
    "# We take one line per category and sum the description\n",
    "data_text = data_text.groupby('categ').sum()\n",
    "# We'll need to change that later, not the best practice"
   ]
  },
  {
   "cell_type": "code",
   "execution_count": 11,
   "metadata": {},
   "outputs": [
    {
     "data": {
      "image/png": "[encoded data removed]",
      "text/plain": [
       "<Figure size 432x288 with 1 Axes>"
      ]
     },
     "metadata": {
      "needs_background": "light"
     },
     "output_type": "display_data"
    }
   ],
   "source": [
    "# The goal here is to extract the frequences of the words\n",
    "# And also to extract the frequences of unique words\n",
    "tokenizer = nltk.RegexpTokenizer(r'\\w+')\n",
    "\n",
    "desc = defaultdict(list)\n",
    "\n",
    "for i in data_text.index:\n",
    "    desc[i] += tokenizer.tokenize(data_text.loc[i, 'description'].lower())\n",
    "\n",
    "stats, freq = dict(), dict()\n",
    "\n",
    "for k, v in zip(desc.keys(), desc.values()):\n",
    "    freq[k] = fq = nltk.FreqDist(v)\n",
    "    stats[k] = {'total': len(v), 'Unique': len(fq.keys())} \n",
    "\n",
    "df = pd.DataFrame.from_dict(stats, orient='index')\n",
    "\n",
    "# freq display\n",
    "df.sort_values(by='total', ascending=False)\n",
    "df['total'].plot(kind='bar', color=\"red\", title='Top categories by number of words', label='Total')\n",
    "df['Unique'].plot(kind='bar', color=\"green\", label='Unique')\n",
    "plt.show()"
   ]
  },
  {
   "cell_type": "markdown",
   "metadata": {},
   "source": [
    "## Stop words"
   ]
  },
  {
   "cell_type": "markdown",
   "metadata": {},
   "source": [
    "Let's work on the stop words ; We will create our own set of stop words and then add a common list to that"
   ]
  },
  {
   "cell_type": "code",
   "execution_count": 12,
   "metadata": {},
   "outputs": [],
   "source": [
    "# First we get the freq of words on our dataset\n",
    "freq_totale = nltk.Counter()\n",
    "for k, v in zip(desc.keys(), desc.values()):\n",
    "    freq_totale += freq[k]\n",
    "\n",
    "# Here is our list of stop words\n",
    "most_freq = { key:value for (key,value) in freq_totale.items() if value >= 100}.keys()\n",
    "\n",
    "# Let's add the common stop words list of nltk\n",
    "sw = set()\n",
    "sw.update(most_freq)\n",
    "sw.update(tuple(nltk.corpus.stopwords.words('english')))\n",
    "sw.update(tuple(['!', '?', '.', ';', '\"', \"'\", \"#\",\n",
    "                 \"&\", \"/\", \"-\", \"_\", \"'m\",\n",
    "                 \"%\", \"*\", \"(\", \")\", \"±3\",\n",
    "                 \",\", \"'s\", '“', '”']))"
   ]
  },
  {
   "cell_type": "markdown",
   "metadata": {},
   "source": [
    "Let's plot again our words repartition but without the stop words this time"
   ]
  },
  {
   "cell_type": "code",
   "execution_count": 13,
   "metadata": {},
   "outputs": [
    {
     "data": {
      "image/png": "[encoded data removed]",
      "text/plain": [
       "<Figure size 432x288 with 1 Axes>"
      ]
     },
     "metadata": {
      "needs_background": "light"
     },
     "output_type": "display_data"
    }
   ],
   "source": [
    "tokenizer = nltk.RegexpTokenizer(r'\\w+')\n",
    "\n",
    "desc = defaultdict(list)\n",
    "\n",
    "for i in data_text.index:\n",
    "    token = tokenizer.tokenize(data_text.loc[i, 'description'].lower())\n",
    "    desc[i] += [w for w in token if not w in list(sw)]\n",
    "\n",
    "stats, freq = dict(), dict()\n",
    "\n",
    "for k, v in zip(desc.keys(), desc.values()):\n",
    "    freq[k] = fq = nltk.FreqDist(v)\n",
    "    stats[k] = {'total': len(v), 'Unique': len(fq.keys())} \n",
    "\n",
    "df = pd.DataFrame.from_dict(stats, orient='index')\n",
    "\n",
    "# freq display\n",
    "df.sort_values(by='total', ascending=False)\n",
    "df['total'].plot(kind='bar', color=\"red\", title='Top categories by number of words', label='Total')\n",
    "df['Unique'].plot(kind='bar', color=\"green\", label='Unique')\n",
    "plt.show()"
   ]
  },
  {
   "cell_type": "markdown",
   "metadata": {},
   "source": [
    "## Stemming"
   ]
  },
  {
   "cell_type": "markdown",
   "metadata": {},
   "source": [
    "We take our code back and just add the stemmer in it"
   ]
  },
  {
   "cell_type": "code",
   "execution_count": 14,
   "metadata": {},
   "outputs": [
    {
     "data": {
      "image/png": "[encoded data removed]",
      "text/plain": [
       "<Figure size 432x288 with 1 Axes>"
      ]
     },
     "metadata": {
      "needs_background": "light"
     },
     "output_type": "display_data"
    }
   ],
   "source": [
    "stemmer = EnglishStemmer()\n",
    "\n",
    "tokenizer = nltk.RegexpTokenizer(r'\\w+')\n",
    "\n",
    "desc = defaultdict(list)\n",
    "\n",
    "for i in data_text.index:\n",
    "    token = tokenizer.tokenize(data_text.loc[i, 'description'].lower())\n",
    "    desc[i] += [stemmer.stem(w) for w in token if not w in list(sw)]\n",
    "\n",
    "stats, freq = dict(), dict()\n",
    "\n",
    "for k, v in zip(desc.keys(), desc.values()):\n",
    "    freq[k] = fq = nltk.FreqDist(v)\n",
    "    stats[k] = {'total': len(v), 'Unique': len(fq.keys())}\n",
    "\n",
    "df = pd.DataFrame.from_dict(stats, orient='index')\n",
    "\n",
    "# freq display\n",
    "df.sort_values(by='total', ascending=False)\n",
    "df['total'].plot(kind='bar', color=\"red\", title='Top categories by number of words', label='Total')\n",
    "df['Unique'].plot(kind='bar', color=\"green\", label='Unique')\n",
    "plt.show()"
   ]
  },
  {
   "cell_type": "markdown",
   "metadata": {},
   "source": [
    "## TF-IDF"
   ]
  },
  {
   "cell_type": "code",
   "execution_count": 15,
   "metadata": {},
   "outputs": [
    {
     "name": "stderr",
     "output_type": "stream",
     "text": [
      "C:\\ProgramData\\Anaconda3\\lib\\site-packages\\sklearn\\feature_extraction\\text.py:385: UserWarning: Your stop_words may be inconsistent with your preprocessing. Tokenizing the stop words generated tokens [\"'d\", '``', 'abov', 'adapt', 'ani', 'babi', 'batteri', 'becaus', 'befor', 'ceram', 'coffe', 'content', 'could', 'deliveri', 'detail', 'dimens', 'discount', 'doe', 'dure', 'easi', 'featur', 'genuin', 'guarante', 'materi', 'might', 'must', \"n't\", 'need', 'onc', 'onli', 'onlin', 'ourselv', 'packag', 'qualiti', 'replac', 'sale', 'sha', 'ship', 'showpiec', 'specif', 'themselv', 'veri', 'warranti', 'whi', 'wo', 'would', 'yourselv'] not in stop_words.\n",
      "  'stop_words.' % sorted(inconsistent))\n"
     ]
    }
   ],
   "source": [
    "data_tf = data.reset_index()[['uniq_id', 'categ', 'product_name', 'description']]\n",
    "\n",
    "def stem_tokens(tokens, stemmer):\n",
    "    stemmed = []\n",
    "    for item in tokens:\n",
    "        stemmed.append(stemmer.stem(item))\n",
    "    return stemmed\n",
    "\n",
    "def tokenize(text):\n",
    "    tokens = nltk.word_tokenize(text)\n",
    "    stems = stem_tokens(tokens, stemmer)\n",
    "    return stems\n",
    "\n",
    "token_dict = defaultdict(list)\n",
    "\n",
    "for i in range(0, len(data_tf)):\n",
    "    lowers = data_tf.loc[i,'description'].lower()\n",
    "    no_punctuation = lowers.translate(string.punctuation)\n",
    "    token_dict[i] = no_punctuation\n",
    "\n",
    "tfIdf = TfidfVectorizer(tokenizer=tokenize, stop_words=sw)\n",
    "values = tfIdf.fit_transform(token_dict.values())"
   ]
  },
  {
   "cell_type": "code",
   "execution_count": 16,
   "metadata": {},
   "outputs": [],
   "source": [
    "# tf_idf_values = pd.DataFrame(values.toarray(), columns=tfIdf.get_feature_names(), index=data.index)"
   ]
  },
  {
   "cell_type": "code",
   "execution_count": 17,
   "metadata": {},
   "outputs": [],
   "source": [
    "X_embedded = TSNE(n_components=2).fit_transform(values)\n",
    "X_embedded_df = pd.DataFrame(X_embedded, index=data_tf.index, columns=['V1', 'V2'])"
   ]
  },
  {
   "cell_type": "code",
   "execution_count": 18,
   "metadata": {},
   "outputs": [],
   "source": [
    "data_tf_plot = pd.merge(data_tf, X_embedded_df,\n",
    "                        left_index=True,\n",
    "                        right_index=True,\n",
    "                        how='inner').set_index('uniq_id')[['categ', 'V1', 'V2']]"
   ]
  },
  {
   "cell_type": "code",
   "execution_count": 19,
   "metadata": {},
   "outputs": [
    {
     "data": {
      "image/png": "[encoded data removed]",
      "text/plain": [
       "<Figure size 761.5x576 with 1 Axes>"
      ]
     },
     "metadata": {
      "needs_background": "light"
     },
     "output_type": "display_data"
    }
   ],
   "source": [
    "sns.pairplot(x_vars=['V1'], y_vars=['V2'], data=data_tf_plot, hue='categ', height=8)\n",
    "plt.show()"
   ]
  },
  {
   "cell_type": "markdown",
   "metadata": {},
   "source": [
    "# Classifier"
   ]
  },
  {
   "cell_type": "code",
   "execution_count": 20,
   "metadata": {},
   "outputs": [],
   "source": [
    "np.random.seed(42)"
   ]
  },
  {
   "cell_type": "markdown",
   "metadata": {},
   "source": [
    "## Train & Test"
   ]
  },
  {
   "cell_type": "code",
   "execution_count": 21,
   "metadata": {},
   "outputs": [],
   "source": [
    "x = data_tf_plot[['V1', 'V2']]\n",
    "y = data_tf_plot[['categ']]"
   ]
  },
  {
   "cell_type": "code",
   "execution_count": 22,
   "metadata": {},
   "outputs": [],
   "source": [
    "x_train, x_test, y_train, y_test = train_test_split(x, y, test_size=0.2)"
   ]
  },
  {
   "cell_type": "markdown",
   "metadata": {},
   "source": [
    "## Cross-Validation"
   ]
  },
  {
   "cell_type": "code",
   "execution_count": 23,
   "metadata": {},
   "outputs": [
    {
     "name": "stdout",
     "output_type": "stream",
     "text": [
      "Fitting 3 folds for each of 100 candidates, totalling 300 fits\n"
     ]
    },
    {
     "name": "stderr",
     "output_type": "stream",
     "text": [
      "[Parallel(n_jobs=-1)]: Using backend LokyBackend with 12 concurrent workers.\n",
      "[Parallel(n_jobs=-1)]: Done  17 tasks      | elapsed:    4.3s\n",
      "[Parallel(n_jobs=-1)]: Done 138 tasks      | elapsed:   23.3s\n",
      "[Parallel(n_jobs=-1)]: Done 300 out of 300 | elapsed:   48.6s finished\n",
      "C:\\ProgramData\\Anaconda3\\lib\\site-packages\\sklearn\\model_selection\\_search.py:739: DataConversionWarning: A column-vector y was passed when a 1d array was expected. Please change the shape of y to (n_samples,), for example using ravel().\n",
      "  self.best_estimator_.fit(X, y, **fit_params)\n"
     ]
    },
    {
     "name": "stdout",
     "output_type": "stream",
     "text": [
      "\n",
      "\n",
      "Function elapsed in:  49.8976735 s\n"
     ]
    },
    {
     "data": {
      "text/plain": [
       "{'n_estimators': 1444,\n",
       " 'min_samples_split': 2,\n",
       " 'min_samples_leaf': 1,\n",
       " 'max_depth': 62,\n",
       " 'bootstrap': True}"
      ]
     },
     "execution_count": 23,
     "metadata": {},
     "output_type": "execute_result"
    }
   ],
   "source": [
    "# Nombre d'arbres dans la forêt\n",
    "n_estimators = [int(x) for x in np.linspace(start = 1000, stop = 2000, num = 10)]\n",
    "# Level max des arbres\n",
    "max_depth = [int(x) for x in np.linspace(60, 80, num = 10)]\n",
    "max_depth.append(None)\n",
    "# nombre de sample min pour split\n",
    "min_samples_split = [2, 5]\n",
    "# Minimum number of samples required at each leaf node\n",
    "min_samples_leaf = [1, 2]\n",
    "# Method of selecting samples for training each tree\n",
    "bootstrap = [True, False]\n",
    "\n",
    "# On crée la random grid\n",
    "random_grid = {'n_estimators': n_estimators,\n",
    "               'max_depth': max_depth,\n",
    "               'min_samples_split': min_samples_split,\n",
    "               'min_samples_leaf': min_samples_leaf,\n",
    "               'bootstrap': bootstrap}\n",
    "\n",
    "t0 = time.perf_counter()\n",
    "\n",
    "rf = RandomForestClassifier()\n",
    "\n",
    "# On recherche avec 100 combinaisons différentes \n",
    "rf = RandomizedSearchCV(estimator=rf, param_distributions=random_grid, n_iter=100, \n",
    "                               cv=3, verbose=2, random_state=42, n_jobs=-1)\n",
    "\n",
    "# On fit\n",
    "rf.fit(x_train, y_train)\n",
    "\n",
    "t1 = time.perf_counter()\n",
    "print(\"\\n\")\n",
    "print ('Function elapsed in: ', t1-t0, 's')\n",
    "\n",
    "rf.best_params_"
   ]
  },
  {
   "cell_type": "code",
   "execution_count": 24,
   "metadata": {},
   "outputs": [
    {
     "name": "stderr",
     "output_type": "stream",
     "text": [
      "C:\\ProgramData\\Anaconda3\\lib\\site-packages\\ipykernel_launcher.py:9: DataConversionWarning: A column-vector y was passed when a 1d array was expected. Please change the shape of y to (n_samples,), for example using ravel().\n",
      "  if __name__ == '__main__':\n"
     ]
    },
    {
     "name": "stdout",
     "output_type": "stream",
     "text": [
      "\n",
      "\n",
      "Function elapsed in:  1.317846799999998 s\n"
     ]
    },
    {
     "data": {
      "image/png": "[encoded data removed]",
      "text/plain": [
       "<Figure size 1080x1080 with 2 Axes>"
      ]
     },
     "metadata": {
      "needs_background": "light"
     },
     "output_type": "display_data"
    },
    {
     "name": "stdout",
     "output_type": "stream",
     "text": [
      "Accuracy: 0.8857142857142857\n"
     ]
    }
   ],
   "source": [
    "t0 = time.perf_counter()\n",
    "\n",
    "rf = RandomForestClassifier(n_estimators = list(rf.best_params_.values())[0],\n",
    "                             min_samples_split = list(rf.best_params_.values())[1],\n",
    "                             min_samples_leaf=list(rf.best_params_.values())[2],\n",
    "                             max_depth = list(rf.best_params_.values())[3],\n",
    "                             bootstrap=list(rf.best_params_.values())[4],\n",
    "                             n_jobs = -1)\n",
    "rf.fit(x_train, y_train)\n",
    "# on prédit\n",
    "y_predict = rf.predict(x_test)\n",
    "\n",
    "t1 = time.perf_counter()\n",
    "print(\"\\n\")\n",
    "print ('Function elapsed in: ', t1-t0, 's')\n",
    "\n",
    "y_predict_df = pd.DataFrame(y_predict, index=y_test.index, columns=['Predict'])\n",
    "accuracy = pd.merge(y_test, y_predict_df, left_index=True, right_index=True, how='inner')\n",
    "\n",
    "conf_matrix = confusion_matrix(accuracy[\"categ\"], \n",
    "                               accuracy['Predict'])\n",
    "\n",
    "x_label = accuracy[\"categ\"].unique()\n",
    "y_label = accuracy[\"categ\"].unique()\n",
    "\n",
    "ax = plt.subplots(figsize=(15,15))\n",
    "ax = sns.heatmap(conf_matrix, cmap=plt.cm.Blues, annot=True)\n",
    "ax.set(xticklabels=x_label, yticklabels=y_label,\n",
    "        title=\"Heatmap Random Forest\",\n",
    "        ylabel='True label',\n",
    "        xlabel='Predicted label')\n",
    "#plt.savefig(\"Graphiques/heatmap_kmeans\")\n",
    "plt.xticks(rotation=45)\n",
    "plt.yticks(rotation=45)\n",
    "plt.show()\n",
    "print('Accuracy:', accuracy_score(y_test, y_predict))"
   ]
  },
  {
   "cell_type": "markdown",
   "metadata": {},
   "source": [
    "# Images"
   ]
  },
  {
   "cell_type": "code",
   "execution_count": 25,
   "metadata": {},
   "outputs": [],
   "source": [
    "import cv2"
   ]
  },
  {
   "cell_type": "code",
   "execution_count": 26,
   "metadata": {},
   "outputs": [],
   "source": [
    "from PIL import Image\n",
    "from numpy import asarray"
   ]
  },
  {
   "cell_type": "markdown",
   "metadata": {},
   "source": [
    "## Features extraction for all images"
   ]
  },
  {
   "cell_type": "code",
   "execution_count": 27,
   "metadata": {},
   "outputs": [],
   "source": [
    "data_images = data[['categ', 'image']]\n",
    "\n",
    "images = []\n",
    "for i in data_images.index:\n",
    "    image = cv2.imread(\"data/Images/\" + data.loc[i, 'image'])\n",
    "    images.append(image)\n",
    "images = pd.DataFrame(images, index=data_images.index, columns=['image_array'])\n",
    "\n",
    "data_images = pd.merge(data_images, images, left_index=True, right_index=True, how='inner')\n",
    "data_images = data_images.dropna()"
   ]
  },
  {
   "cell_type": "code",
   "execution_count": 28,
   "metadata": {},
   "outputs": [],
   "source": [
    "#Initialize ORB\n",
    "orb = cv2.ORB_create(nfeatures=200)\n",
    "\n",
    "des = pd.DataFrame(columns=[i for i in range(0,32)])\n",
    "error = []\n",
    "index = []\n",
    "# Detect & compute\n",
    "for i in data_images.index:\n",
    "    try:\n",
    "        im = data_images.at[i, 'image_array']\n",
    "        kp1, des1 = orb.detectAndCompute(im,None)\n",
    "        if des1 is not None:\n",
    "            index = [i] * len(des1)\n",
    "            des1 = pd.DataFrame(des1, index=index)\n",
    "            des = des.append(des1)\n",
    "    except AttributeError:\n",
    "        error.append(i)"
   ]
  },
  {
   "cell_type": "code",
   "execution_count": 29,
   "metadata": {},
   "outputs": [],
   "source": [
    "data_images = data_images.drop(error)"
   ]
  },
  {
   "cell_type": "markdown",
   "metadata": {},
   "source": [
    "We now know how much vectors we need to handle before doing the clustering"
   ]
  },
  {
   "cell_type": "code",
   "execution_count": 30,
   "metadata": {},
   "outputs": [],
   "source": [
    "##des_ = updateListArray(des)\n",
    "des_df = des.copy()"
   ]
  },
  {
   "cell_type": "markdown",
   "metadata": {},
   "source": [
    "Clustering on the descriptors"
   ]
  },
  {
   "cell_type": "code",
   "execution_count": 31,
   "metadata": {},
   "outputs": [],
   "source": [
    "# Let's create a dev sample in order to reduce the time of computation for elbow and silhouette\n",
    "des_df_dev = des_df.sample(n=50000) # Adapt the nbr of samples according to your machine capabilities"
   ]
  },
  {
   "cell_type": "code",
   "execution_count": 32,
   "metadata": {},
   "outputs": [
    {
     "name": "stdout",
     "output_type": "stream",
     "text": [
      "Step: 50 running...\n",
      "Step: 100 running...\n",
      "Step: 150 running...\n",
      "Step: 200 running...\n",
      "Step: 250 running...\n",
      "Step: 300 running...\n",
      "Step: 350 running...\n",
      "Step: 400 running...\n",
      "Step: 450 running...\n",
      "Step: 500 running...\n"
     ]
    },
    {
     "data": {
      "image/png": "[encoded data removed]",
      "text/plain": [
       "<Figure size 1152x576 with 1 Axes>"
      ]
     },
     "metadata": {
      "needs_background": "light"
     },
     "output_type": "display_data"
    }
   ],
   "source": [
    "# Scale data\n",
    "X_scaled = prepData.centrageReduction(des_df_dev)\n",
    "# Choose the different number of clusters for test\n",
    "nbr_clust = [50, 100, 150, 200, 250, 300, 350, 400, 450, 500]\n",
    "# Elbow computation for a first overview\n",
    "elbow = clustering.elbowMethod(des_df_dev, X_scaled, nbr_clust)"
   ]
  },
  {
   "cell_type": "code",
   "execution_count": 33,
   "metadata": {},
   "outputs": [
    {
     "name": "stdout",
     "output_type": "stream",
     "text": [
      "Step: 400 running...\n",
      "Silhouette score for step 400 = 0.02511125718006968\n",
      "Step: 500 running...\n",
      "Silhouette score for step 500 = 0.024712189801767395\n",
      "Step: 600 running...\n",
      "Silhouette score for step 600 = 0.025698574940288946\n",
      "Step: 700 running...\n",
      "Silhouette score for step 700 = 0.02556637616299342\n",
      "Step: 900 running...\n",
      "Silhouette score for step 900 = 0.026272746275775336\n"
     ]
    },
    {
     "data": {
      "image/png": "[encoded data removed]",
      "text/plain": [
       "<Figure size 432x288 with 1 Axes>"
      ]
     },
     "metadata": {
      "needs_background": "light"
     },
     "output_type": "display_data"
    }
   ],
   "source": [
    "# Nbr of clusters for test\n",
    "nbr_clust = [100, 200, 300, 400, 500]\n",
    "# Silouhette computation to see which range of clusters is best\n",
    "silhouette_coef = clustering.silhouette(des_df_dev, X_scaled, nbr_clust)"
   ]
  },
  {
   "cell_type": "code",
   "execution_count": 80,
   "metadata": {},
   "outputs": [],
   "source": [
    "X_scaled = prepData.centrageReduction(des_df_dev)\n",
    "data_clust = clustering.makeClustering(des_df_dev, X_scaled, 200)\n",
    "data_clust = data_clust[['Clusters']] #.reset_index()"
   ]
  },
  {
   "cell_type": "code",
   "execution_count": 122,
   "metadata": {},
   "outputs": [],
   "source": [
    "data_clust_ = pd.DataFrame(data_clust).reset_index()\n",
    "data_clust_ = data_clust_.groupby([\"index\"])[\"Clusters\"].apply(list)\n",
    "data_clust_ = data_clust_.apply(pd.Series)"
   ]
  },
  {
   "cell_type": "code",
   "execution_count": 123,
   "metadata": {},
   "outputs": [],
   "source": [
    "data_clust_ = data_clust_.unstack().reset_index()\n",
    "data_clust_ = data_clust_.drop(columns=['level_0'])\n",
    "data_clust_ = data_clust_.rename(columns={'level_0':'index',0:'Clusters'})"
   ]
  },
  {
   "cell_type": "code",
   "execution_count": 124,
   "metadata": {},
   "outputs": [],
   "source": [
    "data_clust_['count'] = 1\n",
    "data_clust_ = data_clust_.groupby(['index', 'Clusters'])[\"count\"].count()"
   ]
  },
  {
   "cell_type": "code",
   "execution_count": 125,
   "metadata": {},
   "outputs": [
    {
     "data": {
      "text/plain": [
       "index                             Clusters\n",
       "009099b1f6e1e8f893ec29a7023153c4  4.0         44\n",
       "                                  5.0         44\n",
       "                                  6.0         44\n",
       "                                  18.0        44\n",
       "                                  27.0        44\n",
       "                                              ..\n",
       "fffa2117a4006d4a848eb7d5b80d4816  188.0       48\n",
       "                                  189.0       48\n",
       "                                  190.0       48\n",
       "                                  191.0       48\n",
       "                                  199.0       96\n",
       "Name: count, Length: 37682, dtype: int64"
      ]
     },
     "execution_count": 125,
     "metadata": {},
     "output_type": "execute_result"
    }
   ],
   "source": [
    "data_clust_"
   ]
  },
  {
   "cell_type": "code",
   "execution_count": null,
   "metadata": {},
   "outputs": [],
   "source": [
    "--This is the point to stop ; Other parts are not complitely implemented--"
   ]
  },
  {
   "cell_type": "code",
   "execution_count": null,
   "metadata": {},
   "outputs": [],
   "source": [
    "x = np.asarray(data_clust)\n",
    "y = data_images[['categ']]\n",
    "\n",
    "# x = np.asarray(x).flatten()\n",
    "x_train, x_test, y_train, y_test = train_test_split(x, y, test_size=0.2)"
   ]
  },
  {
   "cell_type": "code",
   "execution_count": null,
   "metadata": {
    "scrolled": false
   },
   "outputs": [],
   "source": [
    "# Nombre d'arbres dans la forêt\n",
    "n_estimators = [int(x) for x in np.linspace(start = 800, stop = 1600, num = 10)]\n",
    "# Level max des arbres\n",
    "max_depth = [int(x) for x in np.linspace(60, 100, num = 5)]\n",
    "max_depth.append(None)\n",
    "# nombre de sample min pour split\n",
    "min_samples_split = [5, 10]\n",
    "# Minimum number of samples required at each leaf node\n",
    "min_samples_leaf = [1, 2]\n",
    "# Method of selecting samples for training each tree\n",
    "bootstrap = [True, False]\n",
    "\n",
    "# On crée la random grid\n",
    "random_grid = {'n_estimators': n_estimators,\n",
    "               'max_depth': max_depth,\n",
    "               'min_samples_split': min_samples_split,\n",
    "               'min_samples_leaf': min_samples_leaf,\n",
    "               'bootstrap': bootstrap}\n",
    "\n",
    "t0 = time.perf_counter()\n",
    "\n",
    "rf = RandomForestClassifier()\n",
    "\n",
    "# On recherche avec 100 combinaisons différentes \n",
    "rf = RandomizedSearchCV(estimator=rf, param_distributions=random_grid, n_iter=50, \n",
    "                               cv=3, verbose=2, random_state=42, n_jobs=-1)\n",
    "\n",
    "# On fit\n",
    "rf.fit(x_train, y_train)\n",
    "\n",
    "t1 = time.perf_counter()\n",
    "print(\"\\n\")\n",
    "print ('Function elapsed in: ', t1-t0, 's')\n",
    "\n",
    "rf.best_params_"
   ]
  },
  {
   "cell_type": "code",
   "execution_count": null,
   "metadata": {},
   "outputs": [],
   "source": [
    "t0 = time.perf_counter()\n",
    "\n",
    "rf_ = RandomForestClassifier(n_estimators = list(rf.best_params_.values())[0],\n",
    "                             min_samples_split = list(rf.best_params_.values())[1],\n",
    "                             min_samples_leaf=list(rf.best_params_.values())[2],\n",
    "                             max_depth = list(rf.best_params_.values())[3],\n",
    "                             bootstrap=list(rf.best_params_.values())[4],\n",
    "                             n_jobs = -1)\n",
    "rf_.fit(x_train, y_train)\n",
    "# on prédit\n",
    "y_predict = rf_.predict(x_test)\n",
    "\n",
    "t1 = time.perf_counter()\n",
    "print(\"\\n\")\n",
    "print ('Function elapsed in: ', t1-t0, 's')\n",
    "\n",
    "y_predict_df = pd.DataFrame(y_predict, index=y_test.index, columns=['Predict'])\n",
    "accuracy = pd.merge(y_test, y_predict_df, left_index=True, right_index=True, how='inner')\n",
    "\n",
    "conf_matrix = confusion_matrix(accuracy[\"categ\"], \n",
    "                               accuracy['Predict'])\n",
    "\n",
    "x_label = accuracy[\"categ\"].unique()\n",
    "y_label = accuracy[\"categ\"].unique()\n",
    "\n",
    "ax = plt.subplots(figsize=(15,15))\n",
    "ax = sns.heatmap(conf_matrix, cmap=plt.cm.Blues, annot=True)\n",
    "ax.set(xticklabels=x_label, yticklabels=y_label,\n",
    "        title=\"Heatmap Random Forest\",\n",
    "        ylabel='True label',\n",
    "        xlabel='Predicted label')\n",
    "#plt.savefig(\"Graphiques/heatmap_kmeans\")\n",
    "plt.xticks(rotation=45)\n",
    "plt.yticks(rotation=45)\n",
    "plt.show()\n",
    "print('Accuracy:', accuracy_score(y_test, y_predict))"
   ]
  },
  {
   "cell_type": "markdown",
   "metadata": {},
   "source": [
    "As expected, the results are not well, it might be because we replaced the missing values with 0 <br/>\n",
    "We will try with a neural network in another notebook to see if we get better results"
   ]
  },
  {
   "cell_type": "markdown",
   "metadata": {},
   "source": [
    "# Combined text and images"
   ]
  },
  {
   "cell_type": "markdown",
   "metadata": {},
   "source": [
    "We will now build a pipeline to combine the text analysis and the images analysis in order to get a more powerfull model (or not, we'll see that)"
   ]
  },
  {
   "cell_type": "markdown",
   "metadata": {},
   "source": [
    "## Set up DataFrame"
   ]
  },
  {
   "cell_type": "code",
   "execution_count": null,
   "metadata": {},
   "outputs": [],
   "source": [
    "data_pipeline = pd.merge(data_clust, data_tf_plot, left_index=True,\n",
    "                         right_index=True, how='inner')\n",
    "\n",
    "x = data_pipeline.drop(columns=['categ'])\n",
    "y = data_pipeline[['categ']]\n",
    "x_train, x_test, y_train, y_test = train_test_split(x, y, test_size=0.2)\n",
    "\n",
    "# Prendre TF-IDF et pas TSNE"
   ]
  },
  {
   "cell_type": "code",
   "execution_count": null,
   "metadata": {},
   "outputs": [],
   "source": [
    "x.shape"
   ]
  },
  {
   "cell_type": "markdown",
   "metadata": {},
   "source": [
    "## PCA"
   ]
  },
  {
   "cell_type": "code",
   "execution_count": null,
   "metadata": {},
   "outputs": [],
   "source": [
    "from functions2 import *\n",
    "from sklearn import preprocessing, decomposition"
   ]
  },
  {
   "cell_type": "code",
   "execution_count": null,
   "metadata": {},
   "outputs": [],
   "source": [
    "#Choix du nombre de composantes à calculer : \n",
    "n_comp = 1049\n",
    "\n",
    "# Selection des colonnes à prendre en compte dans l'ACP : \n",
    "data_pca = x.copy()\n",
    "\n",
    "#Import des clusters : \n",
    "#clusters = [echantillon.loc[pays, \"Clusters\"] for pays in echantillon.index]\n",
    "\n",
    "#Préparation des données pour l'ACP :\n",
    "data_pca = data_pca.fillna(data_pca.mean()) #On remplace les valeurs inconnues par la moyenne de la variable\n",
    "\n",
    "X = data_pca.values #On ne prend que les valeurs\n",
    "\n",
    "names = data_pca.index\n",
    "\n",
    "features = data_pca.columns\n",
    "\n",
    "#Centrage et réduction : \n",
    "std_scale = preprocessing.StandardScaler().fit(X) #On centre\n",
    "X_scaled = std_scale.transform(X) #On réduit\n",
    "\n",
    "#Calcul des composantes principales \n",
    "pca = decomposition.PCA(n_components = n_comp)\n",
    "pca = pca.fit(X_scaled)"
   ]
  },
  {
   "cell_type": "code",
   "execution_count": null,
   "metadata": {},
   "outputs": [],
   "source": [
    "display_scree_plot(pca)"
   ]
  },
  {
   "cell_type": "markdown",
   "metadata": {},
   "source": [
    "PCA is not very usefull here, let's try a random forest without the PCA first"
   ]
  },
  {
   "cell_type": "markdown",
   "metadata": {},
   "source": [
    "## Classifier"
   ]
  },
  {
   "cell_type": "code",
   "execution_count": null,
   "metadata": {},
   "outputs": [],
   "source": [
    "# Nombre d'arbres dans la forêt\n",
    "n_estimators = [int(x) for x in np.linspace(start = 800, stop = 1600, num = 10)]\n",
    "# Level max des arbres\n",
    "max_depth = [int(x) for x in np.linspace(60, 100, num = 5)]\n",
    "max_depth.append(None)\n",
    "# nombre de sample min pour split\n",
    "min_samples_split = [5, 10]\n",
    "# Minimum number of samples required at each leaf node\n",
    "min_samples_leaf = [1, 2]\n",
    "# Method of selecting samples for training each tree\n",
    "bootstrap = [True, False]\n",
    "\n",
    "# On crée la random grid\n",
    "random_grid = {'n_estimators': n_estimators,\n",
    "               'max_depth': max_depth,\n",
    "               'min_samples_split': min_samples_split,\n",
    "               'min_samples_leaf': min_samples_leaf,\n",
    "               'bootstrap': bootstrap}\n",
    "\n",
    "t0 = time.perf_counter()\n",
    "\n",
    "rf = RandomForestClassifier()\n",
    "\n",
    "# On recherche avec 100 combinaisons différentes \n",
    "rf = RandomizedSearchCV(estimator=rf, param_distributions=random_grid, n_iter=50, \n",
    "                               cv=3, verbose=2, random_state=42, n_jobs=-1)\n",
    "\n",
    "# On fit\n",
    "rf.fit(x_train, y_train)\n",
    "\n",
    "t1 = time.perf_counter()\n",
    "print(\"\\n\")\n",
    "print ('Function elapsed in: ', t1-t0, 's')\n",
    "\n",
    "rf.best_params_"
   ]
  },
  {
   "cell_type": "code",
   "execution_count": null,
   "metadata": {},
   "outputs": [],
   "source": [
    "t0 = time.perf_counter()\n",
    "\n",
    "rf_ = RandomForestClassifier(n_estimators = list(rf.best_params_.values())[0],\n",
    "                             min_samples_split = list(rf.best_params_.values())[1],\n",
    "                             min_samples_leaf=list(rf.best_params_.values())[2],\n",
    "                             max_depth = list(rf.best_params_.values())[3],\n",
    "                             bootstrap=list(rf.best_params_.values())[4],\n",
    "                             n_jobs = -1)\n",
    "rf_.fit(x_train, y_train)\n",
    "# on prédit\n",
    "y_predict = rf_.predict(x_test)\n",
    "\n",
    "t1 = time.perf_counter()\n",
    "print(\"\\n\")\n",
    "print ('Function elapsed in: ', t1-t0, 's')\n",
    "\n",
    "y_predict_df = pd.DataFrame(y_predict, index=y_test.index, columns=['Predict'])\n",
    "accuracy = pd.merge(y_test, y_predict_df, left_index=True, right_index=True, how='inner')\n",
    "\n",
    "conf_matrix = confusion_matrix(accuracy[\"categ\"], \n",
    "                               accuracy['Predict'])\n",
    "\n",
    "x_label = accuracy[\"categ\"].unique()\n",
    "y_label = accuracy[\"categ\"].unique()\n",
    "\n",
    "ax = plt.subplots(figsize=(15,15))\n",
    "ax = sns.heatmap(conf_matrix, cmap=plt.cm.Blues, annot=True)\n",
    "ax.set(xticklabels=x_label, yticklabels=y_label,\n",
    "        title=\"Heatmap Random Forest\",\n",
    "        ylabel='True label',\n",
    "        xlabel='Predicted label')\n",
    "#plt.savefig(\"Graphiques/heatmap_kmeans\")\n",
    "plt.xticks(rotation=45)\n",
    "plt.yticks(rotation=45)\n",
    "plt.show()\n",
    "print('Accuracy:', accuracy_score(y_test, y_predict))"
   ]
  },
  {
   "cell_type": "markdown",
   "metadata": {},
   "source": [
    "Results are worst than text alone, let's try with text and clusters only"
   ]
  },
  {
   "cell_type": "code",
   "execution_count": null,
   "metadata": {},
   "outputs": [],
   "source": [
    "x_train = x_train[['Clusters', 'V1', 'V2']]\n",
    "x_test = x_test[['Clusters', 'V1', 'V2']]"
   ]
  },
  {
   "cell_type": "code",
   "execution_count": null,
   "metadata": {},
   "outputs": [],
   "source": [
    "# Nombre d'arbres dans la forêt\n",
    "n_estimators = [int(x) for x in np.linspace(start = 800, stop = 1600, num = 10)]\n",
    "# Level max des arbres\n",
    "max_depth = [int(x) for x in np.linspace(60, 100, num = 5)]\n",
    "max_depth.append(None)\n",
    "# nombre de sample min pour split\n",
    "min_samples_split = [5, 10]\n",
    "# Minimum number of samples required at each leaf node\n",
    "min_samples_leaf = [1, 2]\n",
    "# Method of selecting samples for training each tree\n",
    "bootstrap = [True, False]\n",
    "\n",
    "# On crée la random grid\n",
    "random_grid = {'n_estimators': n_estimators,\n",
    "               'max_depth': max_depth,\n",
    "               'min_samples_split': min_samples_split,\n",
    "               'min_samples_leaf': min_samples_leaf,\n",
    "               'bootstrap': bootstrap}\n",
    "\n",
    "t0 = time.perf_counter()\n",
    "\n",
    "rf = RandomForestClassifier()\n",
    "\n",
    "# On recherche avec 100 combinaisons différentes \n",
    "rf = RandomizedSearchCV(estimator=rf, param_distributions=random_grid, n_iter=50, \n",
    "                               cv=3, verbose=2, random_state=42, n_jobs=-1)\n",
    "\n",
    "# On fit\n",
    "rf.fit(x_train, y_train)\n",
    "\n",
    "t1 = time.perf_counter()\n",
    "print(\"\\n\")\n",
    "print ('Function elapsed in: ', t1-t0, 's')\n",
    "\n",
    "rf.best_params_"
   ]
  },
  {
   "cell_type": "code",
   "execution_count": null,
   "metadata": {},
   "outputs": [],
   "source": [
    "t0 = time.perf_counter()\n",
    "\n",
    "rf_ = RandomForestClassifier(n_estimators = list(rf.best_params_.values())[0],\n",
    "                             min_samples_split = list(rf.best_params_.values())[1],\n",
    "                             min_samples_leaf=list(rf.best_params_.values())[2],\n",
    "                             max_depth = list(rf.best_params_.values())[3],\n",
    "                             bootstrap=list(rf.best_params_.values())[4],\n",
    "                             n_jobs = -1)\n",
    "rf_.fit(x_train, y_train)\n",
    "# on prédit\n",
    "y_predict = rf_.predict(x_test)\n",
    "\n",
    "t1 = time.perf_counter()\n",
    "print(\"\\n\")\n",
    "print ('Function elapsed in: ', t1-t0, 's')\n",
    "\n",
    "y_predict_df = pd.DataFrame(y_predict, index=y_test.index, columns=['Predict'])\n",
    "accuracy = pd.merge(y_test, y_predict_df, left_index=True, right_index=True, how='inner')\n",
    "\n",
    "conf_matrix = confusion_matrix(accuracy[\"categ\"], \n",
    "                               accuracy['Predict'])\n",
    "\n",
    "x_label = accuracy[\"categ\"].unique()\n",
    "y_label = accuracy[\"categ\"].unique()\n",
    "\n",
    "ax = plt.subplots(figsize=(15,15))\n",
    "ax = sns.heatmap(conf_matrix, cmap=plt.cm.Blues, annot=True)\n",
    "ax.set(xticklabels=x_label, yticklabels=y_label,\n",
    "        title=\"Heatmap Random Forest\",\n",
    "        ylabel='True label',\n",
    "        xlabel='Predicted label')\n",
    "#plt.savefig(\"Graphiques/heatmap_kmeans\")\n",
    "plt.xticks(rotation=45)\n",
    "plt.yticks(rotation=45)\n",
    "plt.show()\n",
    "print('Accuracy:', accuracy_score(y_test, y_predict))"
   ]
  },
  {
   "cell_type": "markdown",
   "metadata": {},
   "source": [
    "There is an improvement <br/>\n",
    "Still, the pipeline is at 0.82 and the text only at 0.89 <br/>\n",
    "Meaning we will only take the text for the classifier at this point"
   ]
  },
  {
   "cell_type": "code",
   "execution_count": null,
   "metadata": {},
   "outputs": [],
   "source": []
  }
 ],
 "metadata": {
  "kernelspec": {
   "display_name": "Python 3",
   "language": "python",
   "name": "python3"
  },
  "language_info": {
   "codemirror_mode": {
    "name": "ipython",
    "version": 3
   },
   "file_extension": ".py",
   "mimetype": "text/x-python",
   "name": "python",
   "nbconvert_exporter": "python",
   "pygments_lexer": "ipython3",
   "version": "3.7.6"
  },
  "toc": {
   "base_numbering": 1,
   "nav_menu": {},
   "number_sections": true,
   "sideBar": true,
   "skip_h1_title": false,
   "title_cell": "Table of Contents",
   "title_sidebar": "Contents",
   "toc_cell": false,
   "toc_position": {},
   "toc_section_display": true,
   "toc_window_display": false
  },
  "varInspector": {
   "cols": {
    "lenName": 16,
    "lenType": 16,
    "lenVar": 40
   },
   "kernels_config": {
    "python": {
     "delete_cmd_postfix": "",
     "delete_cmd_prefix": "del ",
     "library": "var_list.py",
     "varRefreshCmd": "print(var_dic_list())"
    },
    "r": {
     "delete_cmd_postfix": ") ",
     "delete_cmd_prefix": "rm(",
     "library": "var_list.r",
     "varRefreshCmd": "cat(var_dic_list()) "
    }
   },
   "types_to_exclude": [
    "module",
    "function",
    "builtin_function_or_method",
    "instance",
    "_Feature"
   ],
   "window_display": false
  }
 },
 "nbformat": 4,
 "nbformat_minor": 2
}
