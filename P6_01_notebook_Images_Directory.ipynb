{
 "cells": [
  {
   "cell_type": "code",
   "execution_count": 3,
   "metadata": {},
   "outputs": [],
   "source": [
    "import os\n",
    "import pandas as pd\n",
    "import numpy as np\n",
    "from shutil import copyfile\n",
    "from sklearn.model_selection import train_test_split"
   ]
  },
  {
   "cell_type": "code",
   "execution_count": 4,
   "metadata": {},
   "outputs": [],
   "source": [
    "# Do not forget to seed the random state or the directories will change every time you\n",
    "# run this code\n",
    "np.random.seed(42)"
   ]
  },
  {
   "cell_type": "markdown",
   "metadata": {},
   "source": [
    "# Import data"
   ]
  },
  {
   "cell_type": "code",
   "execution_count": 5,
   "metadata": {},
   "outputs": [],
   "source": [
    "data = pd.read_csv(\"data/flipkart_com-ecommerce_sample_1050.csv\")\n",
    "data = data.set_index('uniq_id')"
   ]
  },
  {
   "cell_type": "code",
   "execution_count": 6,
   "metadata": {},
   "outputs": [],
   "source": [
    "# We first need to extract the categories from the data\n",
    "data['categ'] = data['product_category_tree'].str.split(pat='>>').str[0]\n",
    "data['categ'] = data['categ'].str.split(pat='\"').str[1]\n",
    "# Let's get the second categ, we'll see if we need it later\n",
    "data['categ2'] = data['product_category_tree'].str.split(pat='>>').str[1]"
   ]
  },
  {
   "cell_type": "markdown",
   "metadata": {},
   "source": [
    "# Setting the right path for each category"
   ]
  },
  {
   "cell_type": "markdown",
   "metadata": {},
   "source": [
    "The architecture will be as follow : <br/>\n",
    "<li><ul> Train \n",
    "    <ul> Cat1 </ul>\n",
    "    <ul> Cat2 </ul></ul>\n",
    "    <ul> Validation \n",
    "    <ul> Cat1 </ul>\n",
    "    <ul> Cat2 </ul></ul></li>\n",
    "    <ul> Test \n",
    "    <ul> Cat1 </ul>\n",
    "    <ul> Cat2 </ul></ul></li>"
   ]
  },
  {
   "cell_type": "markdown",
   "metadata": {},
   "source": [
    "## Create the train, validation and test dataset"
   ]
  },
  {
   "cell_type": "code",
   "execution_count": 7,
   "metadata": {},
   "outputs": [],
   "source": [
    "x = data.copy()\n",
    "y = data[['categ']]\n",
    "x_train, x_test, y_train, y_test = train_test_split(x, y, test_size=0.2, random_state=42)\n",
    "x_train, x_val, y_train, y_val = train_test_split(\n",
    "    x_train, y_train, test_size=0.25, random_state=42)"
   ]
  },
  {
   "cell_type": "markdown",
   "metadata": {},
   "source": [
    "Let's rebuild a single dataset with the labeled data"
   ]
  },
  {
   "cell_type": "code",
   "execution_count": 28,
   "metadata": {},
   "outputs": [
    {
     "name": "stderr",
     "output_type": "stream",
     "text": [
      "C:\\ProgramData\\Anaconda3\\lib\\site-packages\\pandas\\core\\indexing.py:1047: SettingWithCopyWarning: \n",
      "A value is trying to be set on a copy of a slice from a DataFrame.\n",
      "Try using .loc[row_indexer,col_indexer] = value instead\n",
      "\n",
      "See the caveats in the documentation: https://pandas.pydata.org/pandas-docs/stable/user_guide/indexing.html#returning-a-view-versus-a-copy\n",
      "  self.obj[item_labels[indexer[info_axis]]] = value\n"
     ]
    }
   ],
   "source": [
    "x_train.loc[:,'label'] = \"Train\"\n",
    "x_val.loc[:,'label'] = \"Validation\"\n",
    "x_test.loc[:,'label'] = \"Test\"\n",
    "data = pd.concat([x_train, x_val])\n",
    "data = pd.concat([data, x_test])\n",
    "\n",
    "y_train.loc[:,'label'] = \"Train\"\n",
    "y_val.loc[:,'label'] = \"Validation\"\n",
    "y_test.loc[:,'label'] = \"Test\"\n",
    "\n",
    "target = pd.concat([y_train, y_val])\n",
    "target = pd.concat([target, y_test])"
   ]
  },
  {
   "cell_type": "markdown",
   "metadata": {},
   "source": [
    "## Get the different categories"
   ]
  },
  {
   "cell_type": "code",
   "execution_count": 8,
   "metadata": {},
   "outputs": [],
   "source": [
    "categ = data['categ'].unique()"
   ]
  },
  {
   "cell_type": "markdown",
   "metadata": {},
   "source": [
    "## Set up functions to create the directories"
   ]
  },
  {
   "cell_type": "code",
   "execution_count": 16,
   "metadata": {},
   "outputs": [],
   "source": [
    "def createDirectory(categ, direct=['Train', 'Validation', 'Test']):\n",
    "    for cat in categ:\n",
    "        for d in direct:\n",
    "            if os.path.isdir(\"data/\" + d + \"/\" + cat):\n",
    "                print(\"The directory :\", \"data/\" + d + \"/\" + cat, \"was already created\")\n",
    "            else:\n",
    "                os.makedirs(\"data/\" + d + \"/\" + cat)\n",
    "                print(\"The directory :\", \"data/\" + d + \"/\" + cat, \"was created successfully\")"
   ]
  },
  {
   "cell_type": "code",
   "execution_count": 17,
   "metadata": {},
   "outputs": [
    {
     "name": "stdout",
     "output_type": "stream",
     "text": [
      "The directory : data/Train/Home Furnishing  was created successfully\n",
      "The directory : data/Validation/Home Furnishing  was created successfully\n",
      "The directory : data/Test/Home Furnishing  was created successfully\n",
      "The directory : data/Train/Baby Care  was created successfully\n",
      "The directory : data/Validation/Baby Care  was created successfully\n",
      "The directory : data/Test/Baby Care  was created successfully\n",
      "The directory : data/Train/Watches  was created successfully\n",
      "The directory : data/Validation/Watches  was created successfully\n",
      "The directory : data/Test/Watches  was created successfully\n",
      "The directory : data/Train/Home Decor & Festive Needs  was created successfully\n",
      "The directory : data/Validation/Home Decor & Festive Needs  was created successfully\n",
      "The directory : data/Test/Home Decor & Festive Needs  was created successfully\n",
      "The directory : data/Train/Kitchen & Dining  was created successfully\n",
      "The directory : data/Validation/Kitchen & Dining  was created successfully\n",
      "The directory : data/Test/Kitchen & Dining  was created successfully\n",
      "The directory : data/Train/Beauty and Personal Care  was created successfully\n",
      "The directory : data/Validation/Beauty and Personal Care  was created successfully\n",
      "The directory : data/Test/Beauty and Personal Care  was created successfully\n",
      "The directory : data/Train/Computers  was created successfully\n",
      "The directory : data/Validation/Computers  was created successfully\n",
      "The directory : data/Test/Computers  was created successfully\n"
     ]
    }
   ],
   "source": [
    "createDirectory(categ)"
   ]
  },
  {
   "cell_type": "markdown",
   "metadata": {},
   "source": [
    "## Put all images into the right directory"
   ]
  },
  {
   "cell_type": "code",
   "execution_count": 18,
   "metadata": {},
   "outputs": [],
   "source": [
    "def moveImages():\n",
    "    path_train = []\n",
    "    path_test = []\n",
    "    path_val = []\n",
    "    for index in x_train.index:\n",
    "        try:\n",
    "            cat = x_train.loc[index, 'categ']\n",
    "            path_ = \"data/Train/\" + cat.strip() + \"/\" + x_train.loc[index, 'image']\n",
    "            copyfile(\"data/Images/\" + x_train.loc[index, 'image'], path_)\n",
    "            path_train.append(path_)\n",
    "        except:\n",
    "            print(\"Picture not in the path\")\n",
    "            path_ = \" \"\n",
    "            path_train.append(path_)\n",
    "            pass\n",
    "    path_train = pd.DataFrame(path_train, index=x_train.index, columns=['path'])\n",
    "\n",
    "    for index in x_val.index:\n",
    "        try:\n",
    "            cat = x_val.loc[index, 'categ'] \n",
    "            path_ = \"data/Validation/\" + cat.strip() + \"/\" + x_val.loc[index, 'image']\n",
    "            copyfile(\"data/Images/\" + x_val.loc[index, 'image'], path_)\n",
    "            path_val.append(path_)\n",
    "        except:\n",
    "            print(\"Picture not in the path\")\n",
    "            path_ = \" \"\n",
    "            path_val.append(path_)\n",
    "            pass\n",
    "    path_val = pd.DataFrame(path_val, index=x_val.index, columns=['path'])\n",
    "\n",
    "    for index in x_test.index:\n",
    "        try:\n",
    "            cat = x_test.loc[index, 'categ'] \n",
    "            path_ = \"data/Test/\" + cat.strip() + \"/\" + x_test.loc[index, 'image']\n",
    "            copyfile(\"data/Images/\" + x_test.loc[index, 'image'], path_)\n",
    "            path_test.append(path_)\n",
    "        except:\n",
    "            print(\"Picture not in the path\")\n",
    "            path_ = \" \"\n",
    "            path_test.append(path_)\n",
    "            pass\n",
    "    path_test = pd.DataFrame(path_test, index=x_test.index, columns=['path'])\n",
    "    \n",
    "    return path_train, path_val, path_test"
   ]
  },
  {
   "cell_type": "code",
   "execution_count": 19,
   "metadata": {
    "scrolled": true
   },
   "outputs": [],
   "source": [
    "path_train, path_val, path_test = moveImages()"
   ]
  },
  {
   "cell_type": "code",
   "execution_count": 20,
   "metadata": {},
   "outputs": [],
   "source": [
    "x_train = pd.merge(x_train, path_train, left_index=True, right_index=True, how='inner')\n",
    "x_val = pd.merge(x_val, path_val, left_index=True, right_index=True, how='inner')\n",
    "x_test = pd.merge(x_test, path_test, left_index=True, right_index=True, how='inner')"
   ]
  },
  {
   "cell_type": "code",
   "execution_count": 31,
   "metadata": {},
   "outputs": [],
   "source": [
    "data.to_csv(\"data/data.csv\")\n",
    "target.to_csv(\"data/target.csv\")"
   ]
  },
  {
   "cell_type": "code",
   "execution_count": null,
   "metadata": {},
   "outputs": [],
   "source": []
  }
 ],
 "metadata": {
  "kernelspec": {
   "display_name": "Python 3",
   "language": "python",
   "name": "python3"
  },
  "language_info": {
   "codemirror_mode": {
    "name": "ipython",
    "version": 3
   },
   "file_extension": ".py",
   "mimetype": "text/x-python",
   "name": "python",
   "nbconvert_exporter": "python",
   "pygments_lexer": "ipython3",
   "version": "3.7.6"
  }
 },
 "nbformat": 4,
 "nbformat_minor": 4
}
