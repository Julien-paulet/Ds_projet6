{
 "cells": [
  {
   "cell_type": "code",
   "execution_count": 1,
   "metadata": {},
   "outputs": [],
   "source": [
    "import numpy as np\n",
    "import pandas as pd\n",
    "import nltk\n",
    "from collections import defaultdict\n",
    "import matplotlib.pyplot as plt\n",
    "import seaborn as sns"
   ]
  },
  {
   "cell_type": "code",
   "execution_count": 17,
   "metadata": {},
   "outputs": [],
   "source": [
    "data = pd.read_csv(\"data/flipkart_com-ecommerce_sample_1050.csv\")\n",
    "data = data.set_index('uniq_id')"
   ]
  },
  {
   "cell_type": "code",
   "execution_count": 18,
   "metadata": {},
   "outputs": [
    {
     "data": {
      "text/html": [
       "<div>\n",
       "<style scoped>\n",
       "    .dataframe tbody tr th:only-of-type {\n",
       "        vertical-align: middle;\n",
       "    }\n",
       "\n",
       "    .dataframe tbody tr th {\n",
       "        vertical-align: top;\n",
       "    }\n",
       "\n",
       "    .dataframe thead th {\n",
       "        text-align: right;\n",
       "    }\n",
       "</style>\n",
       "<table border=\"1\" class=\"dataframe\">\n",
       "  <thead>\n",
       "    <tr style=\"text-align: right;\">\n",
       "      <th></th>\n",
       "      <th>crawl_timestamp</th>\n",
       "      <th>product_url</th>\n",
       "      <th>product_name</th>\n",
       "      <th>product_category_tree</th>\n",
       "      <th>pid</th>\n",
       "      <th>retail_price</th>\n",
       "      <th>discounted_price</th>\n",
       "      <th>image</th>\n",
       "      <th>is_FK_Advantage_product</th>\n",
       "      <th>description</th>\n",
       "      <th>product_rating</th>\n",
       "      <th>overall_rating</th>\n",
       "      <th>brand</th>\n",
       "      <th>product_specifications</th>\n",
       "    </tr>\n",
       "    <tr>\n",
       "      <th>uniq_id</th>\n",
       "      <th></th>\n",
       "      <th></th>\n",
       "      <th></th>\n",
       "      <th></th>\n",
       "      <th></th>\n",
       "      <th></th>\n",
       "      <th></th>\n",
       "      <th></th>\n",
       "      <th></th>\n",
       "      <th></th>\n",
       "      <th></th>\n",
       "      <th></th>\n",
       "      <th></th>\n",
       "      <th></th>\n",
       "    </tr>\n",
       "  </thead>\n",
       "  <tbody>\n",
       "    <tr>\n",
       "      <th>55b85ea15a1536d46b7190ad6fff8ce7</th>\n",
       "      <td>2016-04-30 03:22:56 +0000</td>\n",
       "      <td>http://www.flipkart.com/elegance-polyester-mul...</td>\n",
       "      <td>Elegance Polyester Multicolor Abstract Eyelet ...</td>\n",
       "      <td>[\"Home Furnishing &gt;&gt; Curtains &amp; Accessories &gt;&gt;...</td>\n",
       "      <td>CRNEG7BKMFFYHQ8Z</td>\n",
       "      <td>1899.0</td>\n",
       "      <td>899.0</td>\n",
       "      <td>55b85ea15a1536d46b7190ad6fff8ce7.jpg</td>\n",
       "      <td>False</td>\n",
       "      <td>Key Features of Elegance Polyester Multicolor ...</td>\n",
       "      <td>No rating available</td>\n",
       "      <td>No rating available</td>\n",
       "      <td>Elegance</td>\n",
       "      <td>{\"product_specification\"=&gt;[{\"key\"=&gt;\"Brand\", \"v...</td>\n",
       "    </tr>\n",
       "    <tr>\n",
       "      <th>7b72c92c2f6c40268628ec5f14c6d590</th>\n",
       "      <td>2016-04-30 03:22:56 +0000</td>\n",
       "      <td>http://www.flipkart.com/sathiyas-cotton-bath-t...</td>\n",
       "      <td>Sathiyas Cotton Bath Towel</td>\n",
       "      <td>[\"Baby Care &gt;&gt; Baby Bath &amp; Skin &gt;&gt; Baby Bath T...</td>\n",
       "      <td>BTWEGFZHGBXPHZUH</td>\n",
       "      <td>600.0</td>\n",
       "      <td>449.0</td>\n",
       "      <td>7b72c92c2f6c40268628ec5f14c6d590.jpg</td>\n",
       "      <td>False</td>\n",
       "      <td>Specifications of Sathiyas Cotton Bath Towel (...</td>\n",
       "      <td>No rating available</td>\n",
       "      <td>No rating available</td>\n",
       "      <td>Sathiyas</td>\n",
       "      <td>{\"product_specification\"=&gt;[{\"key\"=&gt;\"Machine Wa...</td>\n",
       "    </tr>\n",
       "    <tr>\n",
       "      <th>64d5d4a258243731dc7bbb1eef49ad74</th>\n",
       "      <td>2016-04-30 03:22:56 +0000</td>\n",
       "      <td>http://www.flipkart.com/eurospa-cotton-terry-f...</td>\n",
       "      <td>Eurospa Cotton Terry Face Towel Set</td>\n",
       "      <td>[\"Baby Care &gt;&gt; Baby Bath &amp; Skin &gt;&gt; Baby Bath T...</td>\n",
       "      <td>BTWEG6SHXTDB2A2Y</td>\n",
       "      <td>NaN</td>\n",
       "      <td>NaN</td>\n",
       "      <td>64d5d4a258243731dc7bbb1eef49ad74.jpg</td>\n",
       "      <td>False</td>\n",
       "      <td>Key Features of Eurospa Cotton Terry Face Towe...</td>\n",
       "      <td>No rating available</td>\n",
       "      <td>No rating available</td>\n",
       "      <td>Eurospa</td>\n",
       "      <td>{\"product_specification\"=&gt;[{\"key\"=&gt;\"Material\",...</td>\n",
       "    </tr>\n",
       "    <tr>\n",
       "      <th>d4684dcdc759dd9cdf41504698d737d8</th>\n",
       "      <td>2016-06-20 08:49:52 +0000</td>\n",
       "      <td>http://www.flipkart.com/santosh-royal-fashion-...</td>\n",
       "      <td>SANTOSH ROYAL FASHION Cotton Printed King size...</td>\n",
       "      <td>[\"Home Furnishing &gt;&gt; Bed Linen &gt;&gt; Bedsheets &gt;&gt;...</td>\n",
       "      <td>BDSEJT9UQWHDUBH4</td>\n",
       "      <td>2699.0</td>\n",
       "      <td>1299.0</td>\n",
       "      <td>d4684dcdc759dd9cdf41504698d737d8.jpg</td>\n",
       "      <td>False</td>\n",
       "      <td>Key Features of SANTOSH ROYAL FASHION Cotton P...</td>\n",
       "      <td>No rating available</td>\n",
       "      <td>No rating available</td>\n",
       "      <td>SANTOSH ROYAL FASHION</td>\n",
       "      <td>{\"product_specification\"=&gt;[{\"key\"=&gt;\"Brand\", \"v...</td>\n",
       "    </tr>\n",
       "    <tr>\n",
       "      <th>6325b6870c54cd47be6ebfbffa620ec7</th>\n",
       "      <td>2016-06-20 08:49:52 +0000</td>\n",
       "      <td>http://www.flipkart.com/jaipur-print-cotton-fl...</td>\n",
       "      <td>Jaipur Print Cotton Floral King sized Double B...</td>\n",
       "      <td>[\"Home Furnishing &gt;&gt; Bed Linen &gt;&gt; Bedsheets &gt;&gt;...</td>\n",
       "      <td>BDSEJTHNGWVGWWQU</td>\n",
       "      <td>2599.0</td>\n",
       "      <td>698.0</td>\n",
       "      <td>6325b6870c54cd47be6ebfbffa620ec7.jpg</td>\n",
       "      <td>False</td>\n",
       "      <td>Key Features of Jaipur Print Cotton Floral Kin...</td>\n",
       "      <td>No rating available</td>\n",
       "      <td>No rating available</td>\n",
       "      <td>Jaipur Print</td>\n",
       "      <td>{\"product_specification\"=&gt;[{\"key\"=&gt;\"Machine Wa...</td>\n",
       "    </tr>\n",
       "  </tbody>\n",
       "</table>\n",
       "</div>"
      ],
      "text/plain": [
       "                                            crawl_timestamp  \\\n",
       "uniq_id                                                       \n",
       "55b85ea15a1536d46b7190ad6fff8ce7  2016-04-30 03:22:56 +0000   \n",
       "7b72c92c2f6c40268628ec5f14c6d590  2016-04-30 03:22:56 +0000   \n",
       "64d5d4a258243731dc7bbb1eef49ad74  2016-04-30 03:22:56 +0000   \n",
       "d4684dcdc759dd9cdf41504698d737d8  2016-06-20 08:49:52 +0000   \n",
       "6325b6870c54cd47be6ebfbffa620ec7  2016-06-20 08:49:52 +0000   \n",
       "\n",
       "                                                                        product_url  \\\n",
       "uniq_id                                                                               \n",
       "55b85ea15a1536d46b7190ad6fff8ce7  http://www.flipkart.com/elegance-polyester-mul...   \n",
       "7b72c92c2f6c40268628ec5f14c6d590  http://www.flipkart.com/sathiyas-cotton-bath-t...   \n",
       "64d5d4a258243731dc7bbb1eef49ad74  http://www.flipkart.com/eurospa-cotton-terry-f...   \n",
       "d4684dcdc759dd9cdf41504698d737d8  http://www.flipkart.com/santosh-royal-fashion-...   \n",
       "6325b6870c54cd47be6ebfbffa620ec7  http://www.flipkart.com/jaipur-print-cotton-fl...   \n",
       "\n",
       "                                                                       product_name  \\\n",
       "uniq_id                                                                               \n",
       "55b85ea15a1536d46b7190ad6fff8ce7  Elegance Polyester Multicolor Abstract Eyelet ...   \n",
       "7b72c92c2f6c40268628ec5f14c6d590                         Sathiyas Cotton Bath Towel   \n",
       "64d5d4a258243731dc7bbb1eef49ad74                Eurospa Cotton Terry Face Towel Set   \n",
       "d4684dcdc759dd9cdf41504698d737d8  SANTOSH ROYAL FASHION Cotton Printed King size...   \n",
       "6325b6870c54cd47be6ebfbffa620ec7  Jaipur Print Cotton Floral King sized Double B...   \n",
       "\n",
       "                                                              product_category_tree  \\\n",
       "uniq_id                                                                               \n",
       "55b85ea15a1536d46b7190ad6fff8ce7  [\"Home Furnishing >> Curtains & Accessories >>...   \n",
       "7b72c92c2f6c40268628ec5f14c6d590  [\"Baby Care >> Baby Bath & Skin >> Baby Bath T...   \n",
       "64d5d4a258243731dc7bbb1eef49ad74  [\"Baby Care >> Baby Bath & Skin >> Baby Bath T...   \n",
       "d4684dcdc759dd9cdf41504698d737d8  [\"Home Furnishing >> Bed Linen >> Bedsheets >>...   \n",
       "6325b6870c54cd47be6ebfbffa620ec7  [\"Home Furnishing >> Bed Linen >> Bedsheets >>...   \n",
       "\n",
       "                                               pid  retail_price  \\\n",
       "uniq_id                                                            \n",
       "55b85ea15a1536d46b7190ad6fff8ce7  CRNEG7BKMFFYHQ8Z        1899.0   \n",
       "7b72c92c2f6c40268628ec5f14c6d590  BTWEGFZHGBXPHZUH         600.0   \n",
       "64d5d4a258243731dc7bbb1eef49ad74  BTWEG6SHXTDB2A2Y           NaN   \n",
       "d4684dcdc759dd9cdf41504698d737d8  BDSEJT9UQWHDUBH4        2699.0   \n",
       "6325b6870c54cd47be6ebfbffa620ec7  BDSEJTHNGWVGWWQU        2599.0   \n",
       "\n",
       "                                  discounted_price  \\\n",
       "uniq_id                                              \n",
       "55b85ea15a1536d46b7190ad6fff8ce7             899.0   \n",
       "7b72c92c2f6c40268628ec5f14c6d590             449.0   \n",
       "64d5d4a258243731dc7bbb1eef49ad74               NaN   \n",
       "d4684dcdc759dd9cdf41504698d737d8            1299.0   \n",
       "6325b6870c54cd47be6ebfbffa620ec7             698.0   \n",
       "\n",
       "                                                                 image  \\\n",
       "uniq_id                                                                  \n",
       "55b85ea15a1536d46b7190ad6fff8ce7  55b85ea15a1536d46b7190ad6fff8ce7.jpg   \n",
       "7b72c92c2f6c40268628ec5f14c6d590  7b72c92c2f6c40268628ec5f14c6d590.jpg   \n",
       "64d5d4a258243731dc7bbb1eef49ad74  64d5d4a258243731dc7bbb1eef49ad74.jpg   \n",
       "d4684dcdc759dd9cdf41504698d737d8  d4684dcdc759dd9cdf41504698d737d8.jpg   \n",
       "6325b6870c54cd47be6ebfbffa620ec7  6325b6870c54cd47be6ebfbffa620ec7.jpg   \n",
       "\n",
       "                                  is_FK_Advantage_product  \\\n",
       "uniq_id                                                     \n",
       "55b85ea15a1536d46b7190ad6fff8ce7                    False   \n",
       "7b72c92c2f6c40268628ec5f14c6d590                    False   \n",
       "64d5d4a258243731dc7bbb1eef49ad74                    False   \n",
       "d4684dcdc759dd9cdf41504698d737d8                    False   \n",
       "6325b6870c54cd47be6ebfbffa620ec7                    False   \n",
       "\n",
       "                                                                        description  \\\n",
       "uniq_id                                                                               \n",
       "55b85ea15a1536d46b7190ad6fff8ce7  Key Features of Elegance Polyester Multicolor ...   \n",
       "7b72c92c2f6c40268628ec5f14c6d590  Specifications of Sathiyas Cotton Bath Towel (...   \n",
       "64d5d4a258243731dc7bbb1eef49ad74  Key Features of Eurospa Cotton Terry Face Towe...   \n",
       "d4684dcdc759dd9cdf41504698d737d8  Key Features of SANTOSH ROYAL FASHION Cotton P...   \n",
       "6325b6870c54cd47be6ebfbffa620ec7  Key Features of Jaipur Print Cotton Floral Kin...   \n",
       "\n",
       "                                       product_rating       overall_rating  \\\n",
       "uniq_id                                                                      \n",
       "55b85ea15a1536d46b7190ad6fff8ce7  No rating available  No rating available   \n",
       "7b72c92c2f6c40268628ec5f14c6d590  No rating available  No rating available   \n",
       "64d5d4a258243731dc7bbb1eef49ad74  No rating available  No rating available   \n",
       "d4684dcdc759dd9cdf41504698d737d8  No rating available  No rating available   \n",
       "6325b6870c54cd47be6ebfbffa620ec7  No rating available  No rating available   \n",
       "\n",
       "                                                  brand  \\\n",
       "uniq_id                                                   \n",
       "55b85ea15a1536d46b7190ad6fff8ce7               Elegance   \n",
       "7b72c92c2f6c40268628ec5f14c6d590               Sathiyas   \n",
       "64d5d4a258243731dc7bbb1eef49ad74                Eurospa   \n",
       "d4684dcdc759dd9cdf41504698d737d8  SANTOSH ROYAL FASHION   \n",
       "6325b6870c54cd47be6ebfbffa620ec7           Jaipur Print   \n",
       "\n",
       "                                                             product_specifications  \n",
       "uniq_id                                                                              \n",
       "55b85ea15a1536d46b7190ad6fff8ce7  {\"product_specification\"=>[{\"key\"=>\"Brand\", \"v...  \n",
       "7b72c92c2f6c40268628ec5f14c6d590  {\"product_specification\"=>[{\"key\"=>\"Machine Wa...  \n",
       "64d5d4a258243731dc7bbb1eef49ad74  {\"product_specification\"=>[{\"key\"=>\"Material\",...  \n",
       "d4684dcdc759dd9cdf41504698d737d8  {\"product_specification\"=>[{\"key\"=>\"Brand\", \"v...  \n",
       "6325b6870c54cd47be6ebfbffa620ec7  {\"product_specification\"=>[{\"key\"=>\"Machine Wa...  "
      ]
     },
     "execution_count": 18,
     "metadata": {},
     "output_type": "execute_result"
    }
   ],
   "source": [
    "data.head()"
   ]
  },
  {
   "cell_type": "code",
   "execution_count": 19,
   "metadata": {},
   "outputs": [
    {
     "name": "stdout",
     "output_type": "stream",
     "text": [
      "La colonne 'retail_price' comporte 1 / 1050 valeur(s) manquante(s)\n",
      "Ce qui représente 0.09523809523809523%\n",
      "La colonne 'discounted_price' comporte 1 / 1050 valeur(s) manquante(s)\n",
      "Ce qui représente 0.09523809523809523%\n",
      "La colonne 'brand' comporte 338 / 1050 valeur(s) manquante(s)\n",
      "Ce qui représente 32.19047619047619%\n",
      "La colonne 'product_specifications' comporte 1 / 1050 valeur(s) manquante(s)\n",
      "Ce qui représente 0.09523809523809523%\n",
      "4 colonnes au total possèdent des valeurs manquantes\n",
      "85.25 / 1050 valeurs sont manquantes en moyenne dans chaque colonne\n"
     ]
    }
   ],
   "source": [
    "from functions import *\n",
    "isnan(data)"
   ]
  },
  {
   "cell_type": "markdown",
   "metadata": {},
   "source": [
    "# Categories"
   ]
  },
  {
   "cell_type": "code",
   "execution_count": 20,
   "metadata": {},
   "outputs": [],
   "source": [
    "# We first need to extract the categories from the data\n",
    "data['categ'] = data['product_category_tree'].str.split(pat='>>').str[0]\n",
    "data['categ'] = data['categ'].str.split(pat='\"').str[1]\n",
    "# Let's get the second categ, we'll see if we need it later\n",
    "data['categ2'] = data['product_category_tree'].str.split(pat='>>').str[1]"
   ]
  },
  {
   "cell_type": "code",
   "execution_count": 21,
   "metadata": {},
   "outputs": [
    {
     "data": {
      "text/plain": [
       "7"
      ]
     },
     "execution_count": 21,
     "metadata": {},
     "output_type": "execute_result"
    }
   ],
   "source": [
    "len(data['categ'].unique())"
   ]
  },
  {
   "cell_type": "code",
   "execution_count": 25,
   "metadata": {},
   "outputs": [
    {
     "data": {
      "text/plain": [
       "1050"
      ]
     },
     "execution_count": 25,
     "metadata": {},
     "output_type": "execute_result"
    }
   ],
   "source": [
    "len(data)"
   ]
  },
  {
   "cell_type": "code",
   "execution_count": 24,
   "metadata": {},
   "outputs": [
    {
     "data": {
      "text/plain": [
       "categ\n",
       "Baby Care                      150\n",
       "Beauty and Personal Care       150\n",
       "Computers                      150\n",
       "Home Decor & Festive Needs     150\n",
       "Home Furnishing                150\n",
       "Kitchen & Dining               150\n",
       "Watches                        150\n",
       "Name: pid, dtype: int64"
      ]
     },
     "execution_count": 24,
     "metadata": {},
     "output_type": "execute_result"
    }
   ],
   "source": [
    "count_categ = data.groupby('categ').count()['pid'] # Take whatever column to count\n",
    "count_categ"
   ]
  },
  {
   "cell_type": "markdown",
   "metadata": {},
   "source": [
    "# Description analysis"
   ]
  },
  {
   "cell_type": "code",
   "execution_count": 27,
   "metadata": {},
   "outputs": [],
   "source": [
    "data_text = data.reset_index()\n",
    "data_text = data_text[['categ', 'description']]\n",
    "# We take one line per category and sum the description\n",
    "data_text = data_text.groupby('categ').sum()\n",
    "# We'll need to change that later, not the best practice"
   ]
  },
  {
   "cell_type": "code",
   "execution_count": 28,
   "metadata": {},
   "outputs": [
    {
     "data": {
      "image/png": "[encoded data removed]",
      "text/plain": [
       "<Figure size 432x288 with 1 Axes>"
      ]
     },
     "metadata": {
      "needs_background": "light"
     },
     "output_type": "display_data"
    }
   ],
   "source": [
    "# The goal here is to extract the frequences of the words\n",
    "# And also to extract the frequences of unique words\n",
    "tokenizer = nltk.RegexpTokenizer(r'\\w+')\n",
    "\n",
    "desc = defaultdict(list)\n",
    "\n",
    "for i in data_text.index:\n",
    "    desc[i] += tokenizer.tokenize(data_text.loc[i, 'description'].lower())\n",
    "\n",
    "stats, freq = dict(), dict()\n",
    "\n",
    "for k, v in zip(desc.keys(), desc.values()):\n",
    "    freq[k] = fq = nltk.FreqDist(v)\n",
    "    stats[k] = {'total': len(v), 'Unique': len(fq.keys())} \n",
    "\n",
    "df = pd.DataFrame.from_dict(stats, orient='index')\n",
    "\n",
    "# freq display\n",
    "df.sort_values(by='total', ascending=False)\n",
    "df['total'].plot(kind='bar', color=\"red\", title='Top categories by number of words', label='Total')\n",
    "df['Unique'].plot(kind='bar', color=\"green\", label='Unique')\n",
    "plt.show()"
   ]
  },
  {
   "cell_type": "code",
   "execution_count": null,
   "metadata": {},
   "outputs": [],
   "source": []
  },
  {
   "cell_type": "code",
   "execution_count": null,
   "metadata": {},
   "outputs": [],
   "source": []
  }
 ],
 "metadata": {
  "kernelspec": {
   "display_name": "Python 3",
   "language": "python",
   "name": "python3"
  },
  "language_info": {
   "codemirror_mode": {
    "name": "ipython",
    "version": 3
   },
   "file_extension": ".py",
   "mimetype": "text/x-python",
   "name": "python",
   "nbconvert_exporter": "python",
   "pygments_lexer": "ipython3",
   "version": "3.7.6"
  },
  "toc": {
   "base_numbering": 1,
   "nav_menu": {},
   "number_sections": true,
   "sideBar": true,
   "skip_h1_title": false,
   "title_cell": "Table of Contents",
   "title_sidebar": "Contents",
   "toc_cell": false,
   "toc_position": {},
   "toc_section_display": true,
   "toc_window_display": false
  }
 },
 "nbformat": 4,
 "nbformat_minor": 2
}
